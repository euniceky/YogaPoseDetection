{
  "nbformat": 4,
  "nbformat_minor": 0,
  "metadata": {
    "colab": {
      "name": "tf_inception_resnet_hybrid_scratch.ipynb",
      "provenance": [],
      "collapsed_sections": [],
      "authorship_tag": "ABX9TyOEgXDEGlFFs0okBqzDlqUd",
      "include_colab_link": true
    },
    "kernelspec": {
      "name": "python3",
      "display_name": "Python 3"
    },
    "accelerator": "GPU"
  },
  "cells": [
    {
      "cell_type": "markdown",
      "metadata": {
        "id": "view-in-github",
        "colab_type": "text"
      },
      "source": [
        "<a href=\"https://colab.research.google.com/github/euniceky/YogaPoseDetection/blob/master/tf_inception_resnet_hybrid_scratch.ipynb\" target=\"_parent\"><img src=\"https://colab.research.google.com/assets/colab-badge.svg\" alt=\"Open In Colab\"/></a>"
      ]
    },
    {
      "cell_type": "code",
      "metadata": {
        "id": "L0SZgLhgCpIR",
        "colab_type": "code",
        "outputId": "7c4dd475-4ec7-4e1b-b53c-db19e2e1e659",
        "colab": {
          "base_uri": "https://localhost:8080/",
          "height": 35
        }
      },
      "source": [
        "from __future__ import print_function, division\n",
        "import os\n",
        "import time\n",
        "import copy\n",
        "import warnings\n",
        "warnings.filterwarnings(\"ignore\")\n",
        "import matplotlib.pyplot as plt\n",
        "import numpy as np\n",
        "\n",
        "\n",
        "%tensorflow_version 2.x\n",
        "import tensorflow as tf\n",
        "keras = tf.keras\n",
        "\n",
        "from google.colab import drive\n",
        "drive.mount('/content/drive',force_remount=True)"
      ],
      "execution_count": 180,
      "outputs": [
        {
          "output_type": "stream",
          "text": [
            "Mounted at /content/drive\n"
          ],
          "name": "stdout"
        }
      ]
    },
    {
      "cell_type": "code",
      "metadata": {
        "id": "BZf3nKnYDj1p",
        "colab_type": "code",
        "outputId": "64c3be76-38fb-46f9-d80f-7e8497e16e03",
        "colab": {
          "base_uri": "https://localhost:8080/",
          "height": 35
        }
      },
      "source": [
        "print(tf.__version__)"
      ],
      "execution_count": 181,
      "outputs": [
        {
          "output_type": "stream",
          "text": [
            "2.1.0-rc1\n"
          ],
          "name": "stdout"
        }
      ]
    },
    {
      "cell_type": "code",
      "metadata": {
        "id": "YpZCDqMXODVH",
        "colab_type": "code",
        "colab": {}
      },
      "source": [
        "from tensorflow.keras.applications import ResNet50, InceptionResNetV2, InceptionV3\n",
        "from tensorflow.keras.layers import Dense, Flatten, Conv2D, Dropout, MaxPooling2D, GlobalAveragePooling2D\n",
        "from tensorflow.keras.optimizers import SGD, Adam\n",
        "from tensorflow.keras import Model\n",
        "from tensorflow.keras.applications.imagenet_utils import preprocess_input\n",
        "from tensorflow.keras.preprocessing.image import ImageDataGenerator\n",
        "from tensorflow.keras.callbacks import LearningRateScheduler\n",
        "import math"
      ],
      "execution_count": 0,
      "outputs": []
    },
    {
      "cell_type": "markdown",
      "metadata": {
        "id": "JGj02gTfZa2d",
        "colab_type": "text"
      },
      "source": [
        "# Model introduction"
      ]
    },
    {
      "cell_type": "code",
      "metadata": {
        "id": "AmE-_GzxkoW7",
        "colab_type": "code",
        "colab": {
          "base_uri": "https://localhost:8080/",
          "height": 501
        },
        "outputId": "d296b939-eaef-4f25-d1a2-c1b8c8a25027"
      },
      "source": [
        "# Built from scratch\n",
        "model_scratch = tf.keras.Sequential([\n",
        "  Conv2D(32, (3, 3), activation='relu', padding='same', input_shape=(224, 224, 3)),\n",
        "  Conv2D(32, (3, 3), activation='relu', padding='same'),\n",
        "  MaxPooling2D(pool_size=(2, 2)),\n",
        "  Dropout(0.25),\n",
        "\n",
        "  Conv2D(64, (3, 3), activation='relu'),\n",
        "  Conv2D(64, (3, 3), activation='relu'),\n",
        "  MaxPooling2D(pool_size=(2, 2)),\n",
        "  Dropout(0.25),\n",
        "  \n",
        "  GlobalAveragePooling2D(),\n",
        "  Dense(4, activation='softmax')\n",
        "])\n",
        "\n",
        "model_scratch.summary()"
      ],
      "execution_count": 208,
      "outputs": [
        {
          "output_type": "stream",
          "text": [
            "Model: \"sequential_22\"\n",
            "_________________________________________________________________\n",
            "Layer (type)                 Output Shape              Param #   \n",
            "=================================================================\n",
            "conv2d_1131 (Conv2D)         (None, 224, 224, 32)      896       \n",
            "_________________________________________________________________\n",
            "conv2d_1132 (Conv2D)         (None, 224, 224, 32)      9248      \n",
            "_________________________________________________________________\n",
            "max_pooling2d_34 (MaxPooling (None, 112, 112, 32)      0         \n",
            "_________________________________________________________________\n",
            "dropout_14 (Dropout)         (None, 112, 112, 32)      0         \n",
            "_________________________________________________________________\n",
            "conv2d_1133 (Conv2D)         (None, 110, 110, 64)      18496     \n",
            "_________________________________________________________________\n",
            "conv2d_1134 (Conv2D)         (None, 108, 108, 64)      36928     \n",
            "_________________________________________________________________\n",
            "max_pooling2d_35 (MaxPooling (None, 54, 54, 64)        0         \n",
            "_________________________________________________________________\n",
            "dropout_15 (Dropout)         (None, 54, 54, 64)        0         \n",
            "_________________________________________________________________\n",
            "global_average_pooling2d_24  (None, 64)                0         \n",
            "_________________________________________________________________\n",
            "dense_38 (Dense)             (None, 4)                 260       \n",
            "=================================================================\n",
            "Total params: 65,828\n",
            "Trainable params: 65,828\n",
            "Non-trainable params: 0\n",
            "_________________________________________________________________\n"
          ],
          "name": "stdout"
        }
      ]
    },
    {
      "cell_type": "code",
      "metadata": {
        "id": "B3y8q0-9jBG7",
        "colab_type": "code",
        "colab": {}
      },
      "source": [
        "base_model_in = InceptionResNetV2(include_top=False, weights='imagenet', input_shape=(299,299,3))\n",
        "base_model_res = ResNet50(include_top=False, weights='imagenet', input_shape=(224, 224, 3))\n",
        "base_model_inv3 = InceptionV3(include_top=False, weights='imagenet', input_shape=(224, 224, 3))"
      ],
      "execution_count": 0,
      "outputs": []
    },
    {
      "cell_type": "code",
      "metadata": {
        "id": "SIqosziyylmD",
        "colab_type": "code",
        "colab": {}
      },
      "source": [
        "base_model_in.trainable = True\n",
        "base_model_res.trainable = True\n",
        "base_model_inv3.trainable = True\n",
        "#for layer in base_model2.layers[:]:\n",
        "#   layer.trainable = True"
      ],
      "execution_count": 0,
      "outputs": []
    },
    {
      "cell_type": "code",
      "metadata": {
        "id": "QS5RVFOcEUHr",
        "colab_type": "code",
        "colab": {}
      },
      "source": [
        "# Add the output layers\n",
        "model_in = tf.keras.Sequential([base_model_in, \n",
        "                              GlobalAveragePooling2D(),\n",
        "                              Dense(4, activation='softmax')])\n",
        " \n",
        "model_res = tf.keras.Sequential([base_model_res, \n",
        "                              GlobalAveragePooling2D(),\n",
        "                              Dense(4, activation='softmax')])\n",
        "\n",
        "\n",
        "model_inv3 = tf.keras.Sequential([base_model_inv3, \n",
        "                              GlobalAveragePooling2D(),\n",
        "                              Dense(4, activation='softmax')])"
      ],
      "execution_count": 0,
      "outputs": []
    },
    {
      "cell_type": "markdown",
      "metadata": {
        "id": "EkljcUU5ZSRr",
        "colab_type": "text"
      },
      "source": [
        "# Data preprocessing, image augmentation"
      ]
    },
    {
      "cell_type": "code",
      "metadata": {
        "id": "wHLXCJLTykTg",
        "colab_type": "code",
        "colab": {
          "base_uri": "https://localhost:8080/",
          "height": 69
        },
        "outputId": "c00d2dbf-78ff-480c-9172-b12a06775d58"
      },
      "source": [
        "# Creating objects for image augmentations\n",
        "train_datagen = ImageDataGenerator(preprocessing_function= preprocess_input,\n",
        "                                   rescale = 1./255,\n",
        "                                   rotation_range = 30,\n",
        "                                   horizontal_flip = True,\n",
        "                                   featurewise_center = True, \n",
        "                                   featurewise_std_normalization = True)\n",
        "val_datagen = ImageDataGenerator(preprocessing_function=preprocess_input,\n",
        "                                 rescale = 1./255, featurewise_center=True,\n",
        "                                        featurewise_std_normalization=True)\n",
        " \n",
        "test_datagen = ImageDataGenerator(preprocessing_function= preprocess_input,\n",
        "                                  rescale = 1./255, featurewise_center=True,\n",
        "                                        featurewise_std_normalization=True)\n",
        "\n",
        "# Creating datasets\n",
        "training_set = train_datagen.flow_from_directory('/content/drive/My Drive/train',\n",
        "                                                 target_size = (224, 224),\n",
        "                                                 batch_size = 8,\n",
        "                                                 class_mode = 'categorical', shuffle=True)\n",
        "val_set = val_datagen.flow_from_directory('/content/drive/My Drive/val',\n",
        "                                            target_size = (224, 224),\n",
        "                                            batch_size = 8,\n",
        "                                            class_mode = 'categorical')\n",
        "\n",
        "test_set = test_datagen.flow_from_directory('/content/drive/My Drive/test',\n",
        "                                            target_size = (224, 224),\n",
        "                                            batch_size = 8,\n",
        "                                            class_mode = 'categorical')\n",
        " "
      ],
      "execution_count": 187,
      "outputs": [
        {
          "output_type": "stream",
          "text": [
            "Found 824 images belonging to 4 classes.\n",
            "Found 231 images belonging to 4 classes.\n",
            "Found 117 images belonging to 4 classes.\n"
          ],
          "name": "stdout"
        }
      ]
    },
    {
      "cell_type": "markdown",
      "metadata": {
        "id": "F6yARrY4ZMBB",
        "colab_type": "text"
      },
      "source": [
        "# Training Models"
      ]
    },
    {
      "cell_type": "markdown",
      "metadata": {
        "id": "9lMX27-pZiaq",
        "colab_type": "text"
      },
      "source": [
        "### 1. From scratch model "
      ]
    },
    {
      "cell_type": "code",
      "metadata": {
        "id": "H7pAJzAUomHS",
        "colab_type": "code",
        "colab": {}
      },
      "source": [
        "# Decaying learning rate\n",
        "def step_decay(epoch):\n",
        "   initial_lrate = 0.001\n",
        "   drop = 0.1\n",
        "   epochs_drop = 5.0\n",
        "   lrate = initial_lrate * math.pow(drop,  \n",
        "           math.floor((epoch-1)/epochs_drop))\n",
        "   return lrate\n",
        "callback = tf.keras.callbacks.LearningRateScheduler(step_decay)"
      ],
      "execution_count": 0,
      "outputs": []
    },
    {
      "cell_type": "code",
      "metadata": {
        "id": "c9pHO_54Y4xL",
        "colab_type": "code",
        "colab": {
          "base_uri": "https://localhost:8080/",
          "height": 259
        },
        "outputId": "901f831e-feda-4200-f396-cfe24bcea126"
      },
      "source": [
        "# Compile, Train, and Test\n",
        "model_scratch.compile(optimizer=SGD(lr=0.001, momentum=0.9), loss='categorical_crossentropy', metrics = ['accuracy'])\n",
        "model_scratch.fit(training_set, epochs = 20, validation_data = val_set, callbacks=[callback], verbose=0)\n",
        "\n",
        "model_scratch.save_weights(\"model_scratch.h5\")\n",
        "# Test the model \n",
        "model_scratch.evaluate(test_set)"
      ],
      "execution_count": 191,
      "outputs": [
        {
          "output_type": "stream",
          "text": [
            "WARNING:tensorflow:sample_weight modes were coerced from\n",
            "  ...\n",
            "    to  \n",
            "  ['...']\n",
            "WARNING:tensorflow:sample_weight modes were coerced from\n",
            "  ...\n",
            "    to  \n",
            "  ['...']\n",
            "WARNING:tensorflow:sample_weight modes were coerced from\n",
            "  ...\n",
            "    to  \n",
            "  ['...']\n",
            "15/15 [==============================] - 2s 137ms/step - loss: 1.3506 - accuracy: 0.3675\n"
          ],
          "name": "stdout"
        },
        {
          "output_type": "execute_result",
          "data": {
            "text/plain": [
              "[1.3506425539652507, 0.36752138]"
            ]
          },
          "metadata": {
            "tags": []
          },
          "execution_count": 191
        }
      ]
    },
    {
      "cell_type": "code",
      "metadata": {
        "id": "fd16kmUeY-57",
        "colab_type": "code",
        "colab": {
          "base_uri": "https://localhost:8080/",
          "height": 297
        },
        "outputId": "a3452dbe-d132-4793-92a5-b24f433e8a83"
      },
      "source": [
        "acc = model_scratch.history.history['accuracy']\n",
        "val_acc = model_scratch.history.history['val_accuracy']\n",
        "\n",
        "loss = model_scratch.history.history['loss']\n",
        "val_loss = model_scratch.history.history['val_loss']\n",
        "\n",
        "plt.figure(figsize=(10,4))\n",
        "plt.subplot(1, 2, 1)\n",
        "plt.plot(acc, label='Train')\n",
        "plt.plot(val_acc, label='Val')\n",
        "plt.legend(loc='lower right')\n",
        "plt.ylabel('Accuracy')\n",
        "#plt.ylim([0,max(plt.ylim())])\n",
        "plt.title('From Scratch: Training and Validation Accuracy')\n",
        "\n",
        "plt.subplot(1,2, 2)\n",
        "plt.plot(loss, label='Train')\n",
        "plt.plot(val_loss, label='Val')\n",
        "plt.legend(loc='upper right')\n",
        "plt.ylabel('Loss')\n",
        "#plt.ylim([0,5.0])\n",
        "plt.title('From Scratch: Training and Validation Loss')\n",
        "plt.xlabel('epoch')\n",
        "plt.tight_layout()\n",
        "plt.show()"
      ],
      "execution_count": 196,
      "outputs": [
        {
          "output_type": "display_data",
          "data": {
            "image/png": "[encoded data removed]",
            "text/plain": [
              "<Figure size 720x288 with 2 Axes>"
            ]
          },
          "metadata": {
            "tags": []
          }
        }
      ]
    },
    {
      "cell_type": "markdown",
      "metadata": {
        "id": "SjwDKdL8ZmbP",
        "colab_type": "text"
      },
      "source": [
        "### 2. InceptionResnet: fine-tuning"
      ]
    },
    {
      "cell_type": "code",
      "metadata": {
        "id": "9AoNEFwANq_F",
        "colab_type": "code",
        "colab": {
          "base_uri": "https://localhost:8080/",
          "height": 259
        },
        "outputId": "74fafd48-735a-4773-c384-76fd4d174423"
      },
      "source": [
        "# Compile, Train, and Test\n",
        "model_in.compile(optimizer=SGD(lr=0.001, momentum=0.9), loss='categorical_crossentropy', metrics = ['accuracy'])\n",
        "model_in.fit(training_set, epochs = 20, validation_data = val_set, callbacks=[callback], verbose=0)\n",
        "# Save the model \n",
        "model_in.save_weights(\"model_in.h5\")\n",
        "\n",
        "model_in.evaluate(test_set)"
      ],
      "execution_count": 197,
      "outputs": [
        {
          "output_type": "stream",
          "text": [
            "WARNING:tensorflow:sample_weight modes were coerced from\n",
            "  ...\n",
            "    to  \n",
            "  ['...']\n",
            "WARNING:tensorflow:sample_weight modes were coerced from\n",
            "  ...\n",
            "    to  \n",
            "  ['...']\n",
            "WARNING:tensorflow:sample_weight modes were coerced from\n",
            "  ...\n",
            "    to  \n",
            "  ['...']\n",
            "15/15 [==============================] - 2s 150ms/step - loss: 0.5047 - accuracy: 0.8889\n"
          ],
          "name": "stdout"
        },
        {
          "output_type": "execute_result",
          "data": {
            "text/plain": [
              "[0.5047271208837628, 0.8888889]"
            ]
          },
          "metadata": {
            "tags": []
          },
          "execution_count": 197
        }
      ]
    },
    {
      "cell_type": "code",
      "metadata": {
        "id": "mCS9Yr4sYnPa",
        "colab_type": "code",
        "colab": {
          "base_uri": "https://localhost:8080/",
          "height": 297
        },
        "outputId": "42936261-e4de-403f-fd46-3579fc44b404"
      },
      "source": [
        "acc = model_in.history.history['accuracy']\n",
        "val_acc = model_in.history.history['val_accuracy']\n",
        "\n",
        "loss = model_in.history.history['loss']\n",
        "val_loss = model_in.history.history['val_loss']\n",
        "\n",
        "plt.figure(figsize=(10,4))\n",
        "plt.subplot(1, 2, 1)\n",
        "plt.plot(acc, label='Train')\n",
        "plt.plot(val_acc, label='Val')\n",
        "plt.legend(loc='lower right')\n",
        "plt.ylabel('Accuracy')\n",
        "plt.ylim([min(plt.ylim()),1])\n",
        "plt.title('InceptionResnet: Training and Validation Accuracy')\n",
        "\n",
        "plt.subplot(1,2, 2)\n",
        "plt.plot(loss, label='Train')\n",
        "plt.plot(val_loss, label='Val')\n",
        "plt.legend(loc='upper right')\n",
        "plt.ylabel('Loss')\n",
        "plt.ylim([0,5.0])\n",
        "plt.title('InceptionResnet: Training and Validation Loss')\n",
        "plt.xlabel('epoch')\n",
        "plt.tight_layout()\n",
        "plt.show()"
      ],
      "execution_count": 203,
      "outputs": [
        {
          "output_type": "display_data",
          "data": {
            "image/png": "[encoded data removed]",
            "text/plain": [
              "<Figure size 720x288 with 2 Axes>"
            ]
          },
          "metadata": {
            "tags": []
          }
        }
      ]
    },
    {
      "cell_type": "markdown",
      "metadata": {
        "id": "Z9Cikb8GZsBG",
        "colab_type": "text"
      },
      "source": [
        "### 3. Resnet50: fine-tuning "
      ]
    },
    {
      "cell_type": "code",
      "metadata": {
        "id": "YrbVrcSm6psN",
        "colab_type": "code",
        "colab": {
          "base_uri": "https://localhost:8080/",
          "height": 259
        },
        "outputId": "3ac742db-2fd3-4116-ecaa-f29c9dab7491"
      },
      "source": [
        "# Compile, Train, and Test\n",
        "model_res.compile(optimizer=SGD(lr=0.001, momentum=0.9), loss='categorical_crossentropy', metrics = ['accuracy'])\n",
        "model_res.fit(training_set, epochs = 20, validation_data = val_set, callbacks=[callback], verbose=0)\n",
        " \n",
        "model_res.save_weights(\"model_res.h5\")\n",
        "\n",
        "# Test the model \n",
        "model_res.evaluate(test_set)"
      ],
      "execution_count": 205,
      "outputs": [
        {
          "output_type": "stream",
          "text": [
            "WARNING:tensorflow:sample_weight modes were coerced from\n",
            "  ...\n",
            "    to  \n",
            "  ['...']\n",
            "WARNING:tensorflow:sample_weight modes were coerced from\n",
            "  ...\n",
            "    to  \n",
            "  ['...']\n",
            "WARNING:tensorflow:sample_weight modes were coerced from\n",
            "  ...\n",
            "    to  \n",
            "  ['...']\n",
            "15/15 [==============================] - 2s 148ms/step - loss: 1.3054 - accuracy: 0.4530\n"
          ],
          "name": "stdout"
        },
        {
          "output_type": "execute_result",
          "data": {
            "text/plain": [
              "[1.305402366320292, 0.45299146]"
            ]
          },
          "metadata": {
            "tags": []
          },
          "execution_count": 205
        }
      ]
    },
    {
      "cell_type": "code",
      "metadata": {
        "id": "1uixGZMXN1zd",
        "colab_type": "code",
        "colab": {
          "base_uri": "https://localhost:8080/",
          "height": 297
        },
        "outputId": "f7993e75-003b-4e6a-c9fc-5be785916638"
      },
      "source": [
        "acc = model_res.history.history['accuracy']\n",
        "val_acc = model_res.history.history['val_accuracy']\n",
        "\n",
        "loss = model_res.history.history['loss']\n",
        "val_loss = model_res.history.history['val_loss']\n",
        "\n",
        "plt.figure(figsize=(10, 4))\n",
        "plt.subplot(1, 2, 1)\n",
        "plt.plot(acc, label='Train')\n",
        "plt.plot(val_acc, label='Val')\n",
        "plt.legend()\n",
        "plt.ylabel('Accuracy')\n",
        "plt.ylim([0,1.0])\n",
        "plt.ylim([min(plt.ylim()),1])\n",
        "plt.title('Resnet50: Training and Validation Accuracy')\n",
        "\n",
        "plt.subplot(1, 2, 2)\n",
        "plt.plot(loss, label='Train')\n",
        "plt.plot(val_loss, label='Val')\n",
        "plt.legend()\n",
        "plt.ylabel('Loss')\n",
        "plt.ylim([0,5.0])\n",
        "plt.title('Resnet50: Training and Validation Loss')\n",
        "plt.xlabel('epoch')\n",
        "plt.tight_layout()\n",
        "plt.show()\n"
      ],
      "execution_count": 206,
      "outputs": [
        {
          "output_type": "display_data",
          "data": {
            "image/png": "[encoded data removed]",
            "text/plain": [
              "<Figure size 720x288 with 2 Axes>"
            ]
          },
          "metadata": {
            "tags": []
          }
        }
      ]
    },
    {
      "cell_type": "markdown",
      "metadata": {
        "id": "bDgHFgu0dgRq",
        "colab_type": "text"
      },
      "source": [
        "### 4: InceptionV3: fine-tuning\n"
      ]
    },
    {
      "cell_type": "code",
      "metadata": {
        "id": "1M9ltmundkSX",
        "colab_type": "code",
        "colab": {
          "base_uri": "https://localhost:8080/",
          "height": 259
        },
        "outputId": "0a1c8f01-712a-4b38-b6bb-f34ae4c95001"
      },
      "source": [
        "# Compile, Train, and Test\n",
        "model_inv3.compile(optimizer=SGD(lr=0.001, momentum=0.9), loss='categorical_crossentropy', metrics = ['accuracy'])\n",
        "model_inv3.fit(training_set, epochs = 20, validation_data = val_set, callbacks=[callback], verbose=0)\n",
        " \n",
        "model_inv3.save_weights(\"model_inv3.h5\")\n",
        "\n",
        "# Test the model \n",
        "model_inv3.evaluate(test_set)"
      ],
      "execution_count": 201,
      "outputs": [
        {
          "output_type": "stream",
          "text": [
            "WARNING:tensorflow:sample_weight modes were coerced from\n",
            "  ...\n",
            "    to  \n",
            "  ['...']\n",
            "WARNING:tensorflow:sample_weight modes were coerced from\n",
            "  ...\n",
            "    to  \n",
            "  ['...']\n",
            "WARNING:tensorflow:sample_weight modes were coerced from\n",
            "  ...\n",
            "    to  \n",
            "  ['...']\n",
            "15/15 [==============================] - 3s 188ms/step - loss: 0.8612 - accuracy: 0.5983\n"
          ],
          "name": "stdout"
        },
        {
          "output_type": "execute_result",
          "data": {
            "text/plain": [
              "[0.8612273236115774, 0.5982906]"
            ]
          },
          "metadata": {
            "tags": []
          },
          "execution_count": 201
        }
      ]
    },
    {
      "cell_type": "code",
      "metadata": {
        "id": "vP4WDkVjdtNz",
        "colab_type": "code",
        "colab": {
          "base_uri": "https://localhost:8080/",
          "height": 297
        },
        "outputId": "9b58b7c1-0048-47d0-8642-780e423466af"
      },
      "source": [
        "acc = model_inv3.history.history['accuracy']\n",
        "val_acc = model_inv3.history.history['val_accuracy']\n",
        "\n",
        "loss = model_inv3.history.history['loss']\n",
        "val_loss = model_inv3.history.history['val_loss']\n",
        "\n",
        "plt.figure(figsize=(10, 4))\n",
        "plt.subplot(1, 2, 1)\n",
        "plt.plot(acc, label='Train')\n",
        "plt.plot(val_acc, label='Val')\n",
        "plt.legend()\n",
        "plt.ylabel('Accuracy')\n",
        "plt.ylim([0,1.0])\n",
        "plt.ylim([min(plt.ylim()),1])\n",
        "plt.title('InceptionV3: Training and Validation Accuracy')\n",
        "\n",
        "plt.subplot(1, 2, 2)\n",
        "plt.plot(loss, label='Train')\n",
        "plt.plot(val_loss, label='Val')\n",
        "plt.legend()\n",
        "plt.ylabel('Loss')\n",
        "plt.ylim([0,5.0])\n",
        "plt.title('InceptionV3: Training and Validation Loss')\n",
        "plt.xlabel('epoch')\n",
        "plt.tight_layout()\n",
        "plt.show()\n"
      ],
      "execution_count": 204,
      "outputs": [
        {
          "output_type": "display_data",
          "data": {
            "image/png": "[encoded data removed]",
            "text/plain": [
              "<Figure size 720x288 with 2 Axes>"
            ]
          },
          "metadata": {
            "tags": []
          }
        }
      ]
    },
    {
      "cell_type": "code",
      "metadata": {
        "id": "3xTvTB0JiBsD",
        "colab_type": "code",
        "colab": {}
      },
      "source": [
        ""
      ],
      "execution_count": 0,
      "outputs": []
    }
  ]
}
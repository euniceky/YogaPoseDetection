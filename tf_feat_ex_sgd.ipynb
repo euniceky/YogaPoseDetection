{
  "nbformat": 4,
  "nbformat_minor": 0,
  "metadata": {
    "colab": {
      "name": "tf_feat_ex_sgd.ipynb",
      "provenance": [],
      "collapsed_sections": [],
      "authorship_tag": "ABX9TyN1D7yjJZ1fXHw/4uEI5i7J",
      "include_colab_link": true
    },
    "kernelspec": {
      "name": "python3",
      "display_name": "Python 3"
    },
    "accelerator": "GPU"
  },
  "cells": [
    {
      "cell_type": "markdown",
      "metadata": {
        "id": "view-in-github",
        "colab_type": "text"
      },
      "source": [
        "<a href=\"https://colab.research.google.com/github/euniceky/YogaPoseDetection/blob/master/tf_feat_ex_sgd.ipynb\" target=\"_parent\"><img src=\"https://colab.research.google.com/assets/colab-badge.svg\" alt=\"Open In Colab\"/></a>"
      ]
    },
    {
      "cell_type": "code",
      "metadata": {
        "id": "L0SZgLhgCpIR",
        "colab_type": "code",
        "outputId": "9288ce9b-b725-46a4-823f-65dcaa994932",
        "colab": {
          "base_uri": "https://localhost:8080/",
          "height": 141
        }
      },
      "source": [
        "from __future__ import print_function, division\n",
        "import os\n",
        "import time\n",
        "import copy\n",
        "import warnings\n",
        "warnings.filterwarnings(\"ignore\")\n",
        "import matplotlib.pyplot as plt\n",
        "import numpy as np\n",
        "\n",
        "%tensorflow_version 2.x\n",
        "import tensorflow as tf\n",
        "from tensorflow.keras.applications import ResNet50, InceptionResNetV2, InceptionV3\n",
        "from tensorflow.keras.layers import Dense, Flatten, Conv2D, Dropout, MaxPooling2D, GlobalAveragePooling2D\n",
        "from tensorflow.keras.optimizers import SGD, Adam\n",
        "from tensorflow.keras import Model\n",
        "from tensorflow.keras.applications.imagenet_utils import preprocess_input\n",
        "from tensorflow.keras.preprocessing.image import ImageDataGenerator\n",
        "from tensorflow.keras.callbacks import LearningRateScheduler\n",
        "import math\n",
        "\n",
        "from google.colab import drive\n",
        "drive.mount('/content/drive',force_remount=True)"
      ],
      "execution_count": 0,
      "outputs": [
        {
          "output_type": "stream",
          "text": [
            "TensorFlow 2.x selected.\n",
            "Go to this URL in a browser: https://accounts.google.com/o/oauth2/auth?client_id=947318989803-6bn6qk8qdgf4n4g3pfee6491hc0brc4i.apps.googleusercontent.com&redirect_uri=urn%3aietf%3awg%3aoauth%3a2.0%3aoob&response_type=code&scope=email%20https%3a%2f%2fwww.googleapis.com%2fauth%2fdocs.test%20https%3a%2f%2fwww.googleapis.com%2fauth%2fdrive%20https%3a%2f%2fwww.googleapis.com%2fauth%2fdrive.photos.readonly%20https%3a%2f%2fwww.googleapis.com%2fauth%2fpeopleapi.readonly\n",
            "\n",
            "Enter your authorization code:\n",
            "··········\n",
            "Mounted at /content/drive\n"
          ],
          "name": "stdout"
        }
      ]
    },
    {
      "cell_type": "code",
      "metadata": {
        "id": "BZf3nKnYDj1p",
        "colab_type": "code",
        "outputId": "28581b9f-d6b6-4c63-c836-948056d5ffde",
        "colab": {
          "base_uri": "https://localhost:8080/",
          "height": 35
        }
      },
      "source": [
        "print(tf.__version__)"
      ],
      "execution_count": 0,
      "outputs": [
        {
          "output_type": "stream",
          "text": [
            "2.1.0-rc1\n"
          ],
          "name": "stdout"
        }
      ]
    },
    {
      "cell_type": "markdown",
      "metadata": {
        "id": "JGj02gTfZa2d",
        "colab_type": "text"
      },
      "source": [
        "# Model introduction"
      ]
    },
    {
      "cell_type": "code",
      "metadata": {
        "id": "AmE-_GzxkoW7",
        "colab_type": "code",
        "outputId": "91ac10dd-ed83-45d9-97bf-b666c4bbc1ac",
        "colab": {
          "base_uri": "https://localhost:8080/",
          "height": 432
        }
      },
      "source": [
        "# Built from scratch\n",
        "model_scratch = tf.keras.Sequential([\n",
        "  Conv2D(32, (3, 3), activation='relu', padding='same', input_shape=(224, 224, 3)),\n",
        "  Conv2D(64, (3, 3), activation='relu', padding='same'),\n",
        "  MaxPooling2D(pool_size=(2, 2)),\n",
        "  #Dropout(0.25),\n",
        "\n",
        "  Conv2D(128, (3, 3), activation='relu'),\n",
        "  Conv2D(128, (3, 3), activation='relu'),\n",
        "  MaxPooling2D(pool_size=(2, 2)),\n",
        "  #Dropout(0.25),\n",
        "  \n",
        "  GlobalAveragePooling2D(),\n",
        "  Dense(4, activation='softmax')\n",
        "])\n",
        "\n",
        "model_scratch.summary()"
      ],
      "execution_count": 0,
      "outputs": [
        {
          "output_type": "stream",
          "text": [
            "Model: \"sequential\"\n",
            "_________________________________________________________________\n",
            "Layer (type)                 Output Shape              Param #   \n",
            "=================================================================\n",
            "conv2d (Conv2D)              (None, 224, 224, 32)      896       \n",
            "_________________________________________________________________\n",
            "conv2d_1 (Conv2D)            (None, 224, 224, 64)      18496     \n",
            "_________________________________________________________________\n",
            "max_pooling2d (MaxPooling2D) (None, 112, 112, 64)      0         \n",
            "_________________________________________________________________\n",
            "conv2d_2 (Conv2D)            (None, 110, 110, 128)     73856     \n",
            "_________________________________________________________________\n",
            "conv2d_3 (Conv2D)            (None, 108, 108, 128)     147584    \n",
            "_________________________________________________________________\n",
            "max_pooling2d_1 (MaxPooling2 (None, 54, 54, 128)       0         \n",
            "_________________________________________________________________\n",
            "global_average_pooling2d (Gl (None, 128)               0         \n",
            "_________________________________________________________________\n",
            "dense (Dense)                (None, 4)                 516       \n",
            "=================================================================\n",
            "Total params: 241,348\n",
            "Trainable params: 241,348\n",
            "Non-trainable params: 0\n",
            "_________________________________________________________________\n"
          ],
          "name": "stdout"
        }
      ]
    },
    {
      "cell_type": "code",
      "metadata": {
        "id": "8keeVz56ocnV",
        "colab_type": "code",
        "outputId": "fde6280b-3496-4583-cad1-7a58e2f5a22e",
        "colab": {
          "base_uri": "https://localhost:8080/",
          "height": 501
        }
      },
      "source": [
        "# Built from scratch\n",
        "model_scratch2 = tf.keras.Sequential([\n",
        "  Conv2D(32, (3, 3), activation='relu', padding='same', input_shape=(224, 224, 3)),\n",
        "  Conv2D(64, (3, 3), activation='relu', padding='same'),\n",
        "  MaxPooling2D(pool_size=(2, 2)),\n",
        "  #Dropout(0.25),\n",
        "\n",
        "  Conv2D(128, (3, 3), activation='relu'),\n",
        "  Conv2D(128, (3, 3), activation='relu'),\n",
        "  MaxPooling2D(pool_size=(2, 2)),\n",
        "  #Dropout(0.25),\n",
        "  \n",
        "  Dense(1024),\n",
        "  Dense(1024),\n",
        "  GlobalAveragePooling2D(),\n",
        "  Dense(4, activation='softmax')\n",
        "])\n",
        "\n",
        "model_scratch2.summary()"
      ],
      "execution_count": 0,
      "outputs": [
        {
          "output_type": "stream",
          "text": [
            "Model: \"sequential_9\"\n",
            "_________________________________________________________________\n",
            "Layer (type)                 Output Shape              Param #   \n",
            "=================================================================\n",
            "conv2d_309 (Conv2D)          (None, 224, 224, 32)      896       \n",
            "_________________________________________________________________\n",
            "conv2d_310 (Conv2D)          (None, 224, 224, 64)      18496     \n",
            "_________________________________________________________________\n",
            "max_pooling2d_14 (MaxPooling (None, 112, 112, 64)      0         \n",
            "_________________________________________________________________\n",
            "conv2d_311 (Conv2D)          (None, 110, 110, 128)     73856     \n",
            "_________________________________________________________________\n",
            "conv2d_312 (Conv2D)          (None, 108, 108, 128)     147584    \n",
            "_________________________________________________________________\n",
            "max_pooling2d_15 (MaxPooling (None, 54, 54, 128)       0         \n",
            "_________________________________________________________________\n",
            "dense_12 (Dense)             (None, 54, 54, 1024)      132096    \n",
            "_________________________________________________________________\n",
            "dense_13 (Dense)             (None, 54, 54, 1024)      1049600   \n",
            "_________________________________________________________________\n",
            "global_average_pooling2d_8 ( (None, 1024)              0         \n",
            "_________________________________________________________________\n",
            "dense_14 (Dense)             (None, 4)                 4100      \n",
            "=================================================================\n",
            "Total params: 1,426,628\n",
            "Trainable params: 1,426,628\n",
            "Non-trainable params: 0\n",
            "_________________________________________________________________\n"
          ],
          "name": "stdout"
        }
      ]
    },
    {
      "cell_type": "code",
      "metadata": {
        "id": "B3y8q0-9jBG7",
        "colab_type": "code",
        "outputId": "0c8ae3bb-3ca9-4cb4-e905-60bfc22d4e2c",
        "colab": {
          "base_uri": "https://localhost:8080/",
          "height": 121
        }
      },
      "source": [
        "base_model_in = InceptionResNetV2(include_top=False, weights='imagenet', input_shape=(299,299,3))\n",
        "base_model_res = ResNet50(include_top=False, weights='imagenet', input_shape=(224, 224, 3))\n",
        "base_model_inv3 = InceptionV3(include_top=False, weights='imagenet', input_shape=(224, 224, 3))"
      ],
      "execution_count": 0,
      "outputs": [
        {
          "output_type": "stream",
          "text": [
            "Downloading data from https://github.com/fchollet/deep-learning-models/releases/download/v0.7/inception_resnet_v2_weights_tf_dim_ordering_tf_kernels_notop.h5\n",
            "219062272/219055592 [==============================] - 3s 0us/step\n",
            "Downloading data from https://github.com/keras-team/keras-applications/releases/download/resnet/resnet50_weights_tf_dim_ordering_tf_kernels_notop.h5\n",
            "94773248/94765736 [==============================] - 1s 0us/step\n",
            "Downloading data from https://github.com/fchollet/deep-learning-models/releases/download/v0.5/inception_v3_weights_tf_dim_ordering_tf_kernels_notop.h5\n",
            "87916544/87910968 [==============================] - 1s 0us/step\n"
          ],
          "name": "stdout"
        }
      ]
    },
    {
      "cell_type": "code",
      "metadata": {
        "id": "SIqosziyylmD",
        "colab_type": "code",
        "colab": {}
      },
      "source": [
        "base_model_in.trainable = False\n",
        "base_model_res.trainable = False\n",
        "base_model_inv3.trainable = False\n",
        "#for layer in base_model2.layers[:]:\n",
        "#   layer.trainable = True"
      ],
      "execution_count": 0,
      "outputs": []
    },
    {
      "cell_type": "code",
      "metadata": {
        "id": "QS5RVFOcEUHr",
        "colab_type": "code",
        "colab": {}
      },
      "source": [
        "# Add the output layers\n",
        "model_in = tf.keras.Sequential([base_model_in, \n",
        "                              GlobalAveragePooling2D(),\n",
        "                              Dense(4, activation='softmax')])\n",
        " \n",
        "model_res = tf.keras.Sequential([base_model_res, \n",
        "                              GlobalAveragePooling2D(),\n",
        "                              Dense(4, activation='softmax')])\n",
        "\n",
        "\n",
        "model_inv3 = tf.keras.Sequential([base_model_inv3, \n",
        "                              GlobalAveragePooling2D(),\n",
        "                              Dense(4, activation='softmax')])"
      ],
      "execution_count": 0,
      "outputs": []
    },
    {
      "cell_type": "markdown",
      "metadata": {
        "id": "EkljcUU5ZSRr",
        "colab_type": "text"
      },
      "source": [
        "# Data preprocessing, image augmentation"
      ]
    },
    {
      "cell_type": "code",
      "metadata": {
        "id": "wHLXCJLTykTg",
        "colab_type": "code",
        "outputId": "fc6d629b-9dc7-42ab-ae6a-24ebab968e92",
        "colab": {
          "base_uri": "https://localhost:8080/",
          "height": 69
        }
      },
      "source": [
        "# Creating objects for image augmentations\n",
        "train_datagen = ImageDataGenerator(preprocessing_function= preprocess_input,\n",
        "                                   rescale = 1./255,\n",
        "                                   rotation_range = 30,\n",
        "                                   horizontal_flip = True,\n",
        "                                   featurewise_center = True, \n",
        "                                   featurewise_std_normalization = True)\n",
        "val_datagen = ImageDataGenerator(preprocessing_function=preprocess_input,\n",
        "                                 rescale = 1./255, featurewise_center=True,\n",
        "                                        featurewise_std_normalization=True)\n",
        " \n",
        "test_datagen = ImageDataGenerator(preprocessing_function= preprocess_input,\n",
        "                                  rescale = 1./255, featurewise_center=True,\n",
        "                                        featurewise_std_normalization=True)\n",
        "\n",
        "# Creating datasets\n",
        "training_set = train_datagen.flow_from_directory('/content/drive/My Drive/train',\n",
        "                                                 target_size = (224, 224),\n",
        "                                                 batch_size = 8,\n",
        "                                                 class_mode = 'categorical', shuffle=True)\n",
        "val_set = val_datagen.flow_from_directory('/content/drive/My Drive/val',\n",
        "                                            target_size = (224, 224),\n",
        "                                            batch_size = 8,\n",
        "                                            class_mode = 'categorical')\n",
        "\n",
        "test_set = test_datagen.flow_from_directory('/content/drive/My Drive/test',\n",
        "                                            target_size = (224, 224),\n",
        "                                            batch_size = 8,\n",
        "                                            class_mode = 'categorical')\n",
        " "
      ],
      "execution_count": 0,
      "outputs": [
        {
          "output_type": "stream",
          "text": [
            "Found 824 images belonging to 4 classes.\n",
            "Found 231 images belonging to 4 classes.\n",
            "Found 117 images belonging to 4 classes.\n"
          ],
          "name": "stdout"
        }
      ]
    },
    {
      "cell_type": "markdown",
      "metadata": {
        "id": "F6yARrY4ZMBB",
        "colab_type": "text"
      },
      "source": [
        "# Training Models"
      ]
    },
    {
      "cell_type": "markdown",
      "metadata": {
        "id": "9lMX27-pZiaq",
        "colab_type": "text"
      },
      "source": [
        "### 1. From scratch model without dropouts\n"
      ]
    },
    {
      "cell_type": "code",
      "metadata": {
        "id": "H7pAJzAUomHS",
        "colab_type": "code",
        "colab": {}
      },
      "source": [
        "# Decaying learning rate\n",
        "def step_decay(epoch):\n",
        "   initial_lrate = 0.001\n",
        "   drop = 0.1\n",
        "   epochs_drop = 5.0\n",
        "   lrate = initial_lrate * math.pow(drop,  \n",
        "           math.floor((epoch-1)/epochs_drop))\n",
        "   return lrate\n",
        "callback = tf.keras.callbacks.LearningRateScheduler(step_decay)"
      ],
      "execution_count": 0,
      "outputs": []
    },
    {
      "cell_type": "code",
      "metadata": {
        "id": "c9pHO_54Y4xL",
        "colab_type": "code",
        "outputId": "304ea239-6cd8-415d-a8fb-8086185266c9",
        "colab": {
          "base_uri": "https://localhost:8080/",
          "height": 967
        }
      },
      "source": [
        "# Compile, Train, and Test\n",
        "model_scratch.compile(optimizer=SGD(lr=0.001, momentum=0.9), loss='categorical_crossentropy', metrics = ['accuracy'])\n",
        "model_scratch.fit(training_set, epochs = 20, validation_data = val_set, callbacks=[callback], verbose=1)\n",
        "\n",
        "model_scratch.save_weights(\"model_scratch.h5\")\n",
        "# Test the model \n",
        "model_scratch.evaluate(test_set)"
      ],
      "execution_count": 0,
      "outputs": [
        {
          "output_type": "stream",
          "text": [
            "WARNING:tensorflow:sample_weight modes were coerced from\n",
            "  ...\n",
            "    to  \n",
            "  ['...']\n",
            "WARNING:tensorflow:sample_weight modes were coerced from\n",
            "  ...\n",
            "    to  \n",
            "  ['...']\n",
            "Train for 103 steps, validate for 29 steps\n",
            "Epoch 1/20\n",
            "103/103 [==============================] - 221s 2s/step - loss: 1.3595 - accuracy: 0.3629 - val_loss: 1.3531 - val_accuracy: 0.3723\n",
            "Epoch 2/20\n",
            "103/103 [==============================] - 24s 233ms/step - loss: 1.3529 - accuracy: 0.3677 - val_loss: 1.3467 - val_accuracy: 0.3723\n",
            "Epoch 3/20\n",
            "103/103 [==============================] - 24s 232ms/step - loss: 1.3489 - accuracy: 0.3677 - val_loss: 1.3454 - val_accuracy: 0.3723\n",
            "Epoch 4/20\n",
            "103/103 [==============================] - 24s 235ms/step - loss: 1.3478 - accuracy: 0.3677 - val_loss: 1.3452 - val_accuracy: 0.3723\n",
            "Epoch 5/20\n",
            "103/103 [==============================] - 24s 234ms/step - loss: 1.3476 - accuracy: 0.3677 - val_loss: 1.3453 - val_accuracy: 0.3723\n",
            "Epoch 6/20\n",
            "103/103 [==============================] - 24s 232ms/step - loss: 1.3469 - accuracy: 0.3677 - val_loss: 1.3455 - val_accuracy: 0.3723\n",
            "Epoch 7/20\n",
            "103/103 [==============================] - 24s 234ms/step - loss: 1.3459 - accuracy: 0.3677 - val_loss: 1.3453 - val_accuracy: 0.3723\n",
            "Epoch 8/20\n",
            "103/103 [==============================] - 24s 234ms/step - loss: 1.3458 - accuracy: 0.3677 - val_loss: 1.3453 - val_accuracy: 0.3723\n",
            "Epoch 9/20\n",
            "103/103 [==============================] - 24s 236ms/step - loss: 1.3458 - accuracy: 0.3677 - val_loss: 1.3454 - val_accuracy: 0.3723\n",
            "Epoch 10/20\n",
            "103/103 [==============================] - 24s 231ms/step - loss: 1.3457 - accuracy: 0.3677 - val_loss: 1.3454 - val_accuracy: 0.3723\n",
            "Epoch 11/20\n",
            "103/103 [==============================] - 24s 234ms/step - loss: 1.3457 - accuracy: 0.3677 - val_loss: 1.3453 - val_accuracy: 0.3723\n",
            "Epoch 12/20\n",
            "103/103 [==============================] - 24s 236ms/step - loss: 1.3456 - accuracy: 0.3677 - val_loss: 1.3454 - val_accuracy: 0.3723\n",
            "Epoch 13/20\n",
            "103/103 [==============================] - 24s 238ms/step - loss: 1.3456 - accuracy: 0.3677 - val_loss: 1.3454 - val_accuracy: 0.3723\n",
            "Epoch 14/20\n",
            "103/103 [==============================] - 24s 237ms/step - loss: 1.3456 - accuracy: 0.3677 - val_loss: 1.3454 - val_accuracy: 0.3723\n",
            "Epoch 15/20\n",
            "103/103 [==============================] - 25s 240ms/step - loss: 1.3456 - accuracy: 0.3677 - val_loss: 1.3454 - val_accuracy: 0.3723\n",
            "Epoch 16/20\n",
            "103/103 [==============================] - 24s 232ms/step - loss: 1.3456 - accuracy: 0.3677 - val_loss: 1.3454 - val_accuracy: 0.3723\n",
            "Epoch 17/20\n",
            "103/103 [==============================] - 24s 234ms/step - loss: 1.3455 - accuracy: 0.3677 - val_loss: 1.3454 - val_accuracy: 0.3723\n",
            "Epoch 18/20\n",
            "103/103 [==============================] - 24s 231ms/step - loss: 1.3455 - accuracy: 0.3677 - val_loss: 1.3454 - val_accuracy: 0.3723\n",
            "Epoch 19/20\n",
            "103/103 [==============================] - 24s 234ms/step - loss: 1.3455 - accuracy: 0.3677 - val_loss: 1.3454 - val_accuracy: 0.3723\n",
            "Epoch 20/20\n",
            "103/103 [==============================] - 24s 234ms/step - loss: 1.3456 - accuracy: 0.3677 - val_loss: 1.3454 - val_accuracy: 0.3723\n",
            "WARNING:tensorflow:sample_weight modes were coerced from\n",
            "  ...\n",
            "    to  \n",
            "  ['...']\n",
            "15/15 [==============================] - 23s 2s/step - loss: 1.3449 - accuracy: 0.3675\n"
          ],
          "name": "stdout"
        },
        {
          "output_type": "execute_result",
          "data": {
            "text/plain": [
              "[1.3449068705240885, 0.36752138]"
            ]
          },
          "metadata": {
            "tags": []
          },
          "execution_count": 12
        }
      ]
    },
    {
      "cell_type": "code",
      "metadata": {
        "id": "fd16kmUeY-57",
        "colab_type": "code",
        "outputId": "d1107f11-9a08-4d29-94a6-be765563a523",
        "colab": {
          "base_uri": "https://localhost:8080/",
          "height": 297
        }
      },
      "source": [
        "acc = model_scratch.history.history['accuracy']\n",
        "val_acc = model_scratch.history.history['val_accuracy']\n",
        "\n",
        "loss = model_scratch.history.history['loss']\n",
        "val_loss = model_scratch.history.history['val_loss']\n",
        "\n",
        "plt.figure(figsize=(10,4))\n",
        "plt.subplot(1, 2, 1)\n",
        "plt.plot(acc, label='Train')\n",
        "plt.plot(val_acc, label='Val')\n",
        "plt.legend(loc='lower right')\n",
        "plt.ylabel('Accuracy')\n",
        "#plt.ylim([0,max(plt.ylim())])\n",
        "plt.title('From Scratch: Training and Validation Accuracy')\n",
        "\n",
        "plt.subplot(1,2, 2)\n",
        "plt.plot(loss, label='Train')\n",
        "plt.plot(val_loss, label='Val')\n",
        "plt.legend(loc='upper right')\n",
        "plt.ylabel('Loss')\n",
        "#plt.ylim([0,5.0])\n",
        "plt.title('From Scratch: Training and Validation Loss')\n",
        "plt.xlabel('epoch')\n",
        "plt.tight_layout()\n",
        "plt.show()"
      ],
      "execution_count": 0,
      "outputs": [
        {
          "output_type": "display_data",
          "data": {
            "image/png": "[encoded data removed]",
            "text/plain": [
              "<Figure size 720x288 with 2 Axes>"
            ]
          },
          "metadata": {
            "tags": []
          }
        }
      ]
    },
    {
      "cell_type": "markdown",
      "metadata": {
        "id": "eXFddad8pNjw",
        "colab_type": "text"
      },
      "source": [
        "### 1.5 Model from scratch, with dense layers, without dropouts"
      ]
    },
    {
      "cell_type": "code",
      "metadata": {
        "id": "LDsSNA0XpKEW",
        "colab_type": "code",
        "outputId": "074888c9-d67c-4d2a-9423-c5d1814a4ed9",
        "colab": {
          "base_uri": "https://localhost:8080/",
          "height": 967
        }
      },
      "source": [
        "# Compile, Train, and Test\n",
        "model_scratch2.compile(optimizer=SGD(lr=0.001, momentum=0.9), loss='categorical_crossentropy', metrics = ['accuracy'])\n",
        "model_scratch2.fit(training_set, epochs = 20, validation_data = val_set, callbacks=[callback], verbose=1)\n",
        "\n",
        "model_scratch2.save_weights(\"model_scratch2.h5\")\n",
        "# Test the model \n",
        "model_scratch2.evaluate(test_set)"
      ],
      "execution_count": 0,
      "outputs": [
        {
          "output_type": "stream",
          "text": [
            "WARNING:tensorflow:sample_weight modes were coerced from\n",
            "  ...\n",
            "    to  \n",
            "  ['...']\n",
            "WARNING:tensorflow:sample_weight modes were coerced from\n",
            "  ...\n",
            "    to  \n",
            "  ['...']\n",
            "Train for 103 steps, validate for 29 steps\n",
            "Epoch 1/20\n",
            "103/103 [==============================] - 26s 253ms/step - loss: 1.3550 - accuracy: 0.3568 - val_loss: 1.3515 - val_accuracy: 0.3723\n",
            "Epoch 2/20\n",
            "103/103 [==============================] - 26s 252ms/step - loss: 1.3533 - accuracy: 0.3677 - val_loss: 1.3460 - val_accuracy: 0.3723\n",
            "Epoch 3/20\n",
            "103/103 [==============================] - 26s 248ms/step - loss: 1.3492 - accuracy: 0.3677 - val_loss: 1.3446 - val_accuracy: 0.3723\n",
            "Epoch 4/20\n",
            "103/103 [==============================] - 26s 250ms/step - loss: 1.3484 - accuracy: 0.3677 - val_loss: 1.3446 - val_accuracy: 0.3723\n",
            "Epoch 5/20\n",
            "103/103 [==============================] - 26s 249ms/step - loss: 1.3483 - accuracy: 0.3677 - val_loss: 1.3449 - val_accuracy: 0.3723\n",
            "Epoch 6/20\n",
            "103/103 [==============================] - 26s 250ms/step - loss: 1.3479 - accuracy: 0.3677 - val_loss: 1.3449 - val_accuracy: 0.3723\n",
            "Epoch 7/20\n",
            "103/103 [==============================] - 26s 251ms/step - loss: 1.3468 - accuracy: 0.3677 - val_loss: 1.3451 - val_accuracy: 0.3723\n",
            "Epoch 8/20\n",
            "103/103 [==============================] - 26s 252ms/step - loss: 1.3469 - accuracy: 0.3677 - val_loss: 1.3450 - val_accuracy: 0.3723\n",
            "Epoch 9/20\n",
            "103/103 [==============================] - 26s 250ms/step - loss: 1.3467 - accuracy: 0.3677 - val_loss: 1.3450 - val_accuracy: 0.3723\n",
            "Epoch 10/20\n",
            "103/103 [==============================] - 26s 248ms/step - loss: 1.3468 - accuracy: 0.3677 - val_loss: 1.3450 - val_accuracy: 0.3723\n",
            "Epoch 11/20\n",
            "103/103 [==============================] - 26s 251ms/step - loss: 1.3468 - accuracy: 0.3677 - val_loss: 1.3450 - val_accuracy: 0.3723\n",
            "Epoch 12/20\n",
            "103/103 [==============================] - 26s 249ms/step - loss: 1.3465 - accuracy: 0.3677 - val_loss: 1.3450 - val_accuracy: 0.3723\n",
            "Epoch 13/20\n",
            "103/103 [==============================] - 26s 248ms/step - loss: 1.3465 - accuracy: 0.3677 - val_loss: 1.3450 - val_accuracy: 0.3723\n",
            "Epoch 14/20\n",
            "103/103 [==============================] - 26s 250ms/step - loss: 1.3466 - accuracy: 0.3677 - val_loss: 1.3450 - val_accuracy: 0.3723\n",
            "Epoch 15/20\n",
            "103/103 [==============================] - 26s 251ms/step - loss: 1.3465 - accuracy: 0.3677 - val_loss: 1.3450 - val_accuracy: 0.3723\n",
            "Epoch 16/20\n",
            "103/103 [==============================] - 26s 249ms/step - loss: 1.3466 - accuracy: 0.3677 - val_loss: 1.3450 - val_accuracy: 0.3723\n",
            "Epoch 17/20\n",
            "103/103 [==============================] - 25s 247ms/step - loss: 1.3465 - accuracy: 0.3677 - val_loss: 1.3450 - val_accuracy: 0.3723\n",
            "Epoch 18/20\n",
            "103/103 [==============================] - 26s 250ms/step - loss: 1.3465 - accuracy: 0.3677 - val_loss: 1.3450 - val_accuracy: 0.3723\n",
            "Epoch 19/20\n",
            "103/103 [==============================] - 25s 248ms/step - loss: 1.3465 - accuracy: 0.3677 - val_loss: 1.3450 - val_accuracy: 0.3723\n",
            "Epoch 20/20\n",
            "103/103 [==============================] - 26s 249ms/step - loss: 1.3465 - accuracy: 0.3677 - val_loss: 1.3450 - val_accuracy: 0.3723\n",
            "WARNING:tensorflow:sample_weight modes were coerced from\n",
            "  ...\n",
            "    to  \n",
            "  ['...']\n",
            "15/15 [==============================] - 2s 125ms/step - loss: 1.3452 - accuracy: 0.3675\n"
          ],
          "name": "stdout"
        },
        {
          "output_type": "execute_result",
          "data": {
            "text/plain": [
              "[1.3452404419581094, 0.36752138]"
            ]
          },
          "metadata": {
            "tags": []
          },
          "execution_count": 24
        }
      ]
    },
    {
      "cell_type": "code",
      "metadata": {
        "id": "vs_t2nf9pZtD",
        "colab_type": "code",
        "outputId": "b11bf93d-de6f-4493-c6ba-4f13b5b9e8da",
        "colab": {
          "base_uri": "https://localhost:8080/",
          "height": 297
        }
      },
      "source": [
        "acc = model_scratch2.history.history['accuracy']\n",
        "val_acc = model_scratch2.history.history['val_accuracy']\n",
        "\n",
        "loss = model_scratch2.history.history['loss']\n",
        "val_loss = model_scratch2.history.history['val_loss']\n",
        "\n",
        "plt.figure(figsize=(10,4))\n",
        "plt.subplot(1, 2, 1)\n",
        "plt.plot(acc, label='Train')\n",
        "plt.plot(val_acc, label='Val')\n",
        "plt.legend(loc='lower right')\n",
        "plt.ylabel('Accuracy')\n",
        "#plt.ylim([0,max(plt.ylim())])\n",
        "plt.title('From Scratch: Training and Validation Accuracy')\n",
        "\n",
        "plt.subplot(1,2, 2)\n",
        "plt.plot(loss, label='Train')\n",
        "plt.plot(val_loss, label='Val')\n",
        "plt.legend(loc='upper right')\n",
        "plt.ylabel('Loss')\n",
        "#plt.ylim([0,5.0])\n",
        "plt.title('From Scratch: Training and Validation Loss')\n",
        "plt.xlabel('epoch')\n",
        "plt.tight_layout()\n",
        "plt.show()"
      ],
      "execution_count": 0,
      "outputs": [
        {
          "output_type": "display_data",
          "data": {
            "image/png": "[encoded data removed]",
            "text/plain": [
              "<Figure size 720x288 with 2 Axes>"
            ]
          },
          "metadata": {
            "tags": []
          }
        }
      ]
    },
    {
      "cell_type": "markdown",
      "metadata": {
        "id": "SjwDKdL8ZmbP",
        "colab_type": "text"
      },
      "source": [
        "### 2. InceptionResnet: feature extraction\n"
      ]
    },
    {
      "cell_type": "code",
      "metadata": {
        "id": "9AoNEFwANq_F",
        "colab_type": "code",
        "outputId": "ad3b1b5e-b4d5-4923-8aa2-65fb2202fc4b",
        "colab": {
          "base_uri": "https://localhost:8080/",
          "height": 967
        }
      },
      "source": [
        "# Compile, Train, and Test\n",
        "model_in.compile(optimizer=SGD(lr=0.001, momentum=0.9), loss='categorical_crossentropy', metrics = ['accuracy'])\n",
        "model_in.fit(training_set, epochs = 20, validation_data = val_set, callbacks=[callback], verbose=1)\n",
        "# Save the model \n",
        "model_in.save_weights(\"model_in.h5\")\n",
        "\n",
        "model_in.evaluate(test_set)"
      ],
      "execution_count": 0,
      "outputs": [
        {
          "output_type": "stream",
          "text": [
            "WARNING:tensorflow:sample_weight modes were coerced from\n",
            "  ...\n",
            "    to  \n",
            "  ['...']\n",
            "WARNING:tensorflow:sample_weight modes were coerced from\n",
            "  ...\n",
            "    to  \n",
            "  ['...']\n",
            "Train for 103 steps, validate for 29 steps\n",
            "Epoch 1/20\n",
            "103/103 [==============================] - 36s 351ms/step - loss: 1.4568 - accuracy: 0.4345 - val_loss: 2.5622 - val_accuracy: 0.5108\n",
            "Epoch 2/20\n",
            "103/103 [==============================] - 25s 243ms/step - loss: 1.0734 - accuracy: 0.6359 - val_loss: 0.9930 - val_accuracy: 0.6580\n",
            "Epoch 3/20\n",
            "103/103 [==============================] - 25s 246ms/step - loss: 0.7542 - accuracy: 0.6857 - val_loss: 0.9501 - val_accuracy: 0.6407\n",
            "Epoch 4/20\n",
            "103/103 [==============================] - 26s 248ms/step - loss: 0.7613 - accuracy: 0.6978 - val_loss: 0.9930 - val_accuracy: 0.6190\n",
            "Epoch 5/20\n",
            "103/103 [==============================] - 25s 244ms/step - loss: 0.7319 - accuracy: 0.7075 - val_loss: 1.0466 - val_accuracy: 0.6061\n",
            "Epoch 6/20\n",
            "103/103 [==============================] - 25s 245ms/step - loss: 0.7303 - accuracy: 0.6990 - val_loss: 1.0779 - val_accuracy: 0.6061\n",
            "Epoch 7/20\n",
            "103/103 [==============================] - 25s 244ms/step - loss: 0.6938 - accuracy: 0.7233 - val_loss: 0.9088 - val_accuracy: 0.6494\n",
            "Epoch 8/20\n",
            "103/103 [==============================] - 25s 243ms/step - loss: 0.7045 - accuracy: 0.7184 - val_loss: 0.8900 - val_accuracy: 0.6667\n",
            "Epoch 9/20\n",
            "103/103 [==============================] - 25s 245ms/step - loss: 0.6975 - accuracy: 0.7427 - val_loss: 0.8982 - val_accuracy: 0.6623\n",
            "Epoch 10/20\n",
            "103/103 [==============================] - 25s 246ms/step - loss: 0.6951 - accuracy: 0.7415 - val_loss: 0.8730 - val_accuracy: 0.6623\n",
            "Epoch 11/20\n",
            "103/103 [==============================] - 26s 250ms/step - loss: 0.6923 - accuracy: 0.7306 - val_loss: 0.8726 - val_accuracy: 0.6580\n",
            "Epoch 12/20\n",
            "103/103 [==============================] - 25s 247ms/step - loss: 0.6717 - accuracy: 0.7427 - val_loss: 0.8901 - val_accuracy: 0.6623\n",
            "Epoch 13/20\n",
            "103/103 [==============================] - 25s 247ms/step - loss: 0.6701 - accuracy: 0.7354 - val_loss: 0.8864 - val_accuracy: 0.6623\n",
            "Epoch 14/20\n",
            "103/103 [==============================] - 25s 247ms/step - loss: 0.6987 - accuracy: 0.7209 - val_loss: 0.8865 - val_accuracy: 0.6667\n",
            "Epoch 15/20\n",
            "103/103 [==============================] - 25s 244ms/step - loss: 0.7178 - accuracy: 0.7027 - val_loss: 0.8833 - val_accuracy: 0.6623\n",
            "Epoch 16/20\n",
            "103/103 [==============================] - 26s 248ms/step - loss: 0.6816 - accuracy: 0.7597 - val_loss: 0.8814 - val_accuracy: 0.6623\n",
            "Epoch 17/20\n",
            "103/103 [==============================] - 26s 248ms/step - loss: 0.6709 - accuracy: 0.7427 - val_loss: 0.8806 - val_accuracy: 0.6623\n",
            "Epoch 18/20\n",
            "103/103 [==============================] - 25s 246ms/step - loss: 0.7022 - accuracy: 0.7451 - val_loss: 0.8800 - val_accuracy: 0.6623\n",
            "Epoch 19/20\n",
            "103/103 [==============================] - 25s 247ms/step - loss: 0.6782 - accuracy: 0.7476 - val_loss: 0.8799 - val_accuracy: 0.6623\n",
            "Epoch 20/20\n",
            "103/103 [==============================] - 25s 245ms/step - loss: 0.6891 - accuracy: 0.7330 - val_loss: 0.8798 - val_accuracy: 0.6623\n",
            "WARNING:tensorflow:sample_weight modes were coerced from\n",
            "  ...\n",
            "    to  \n",
            "  ['...']\n",
            "15/15 [==============================] - 3s 183ms/step - loss: 0.7684 - accuracy: 0.6923\n"
          ],
          "name": "stdout"
        },
        {
          "output_type": "execute_result",
          "data": {
            "text/plain": [
              "[0.7684102863073349, 0.6923077]"
            ]
          },
          "metadata": {
            "tags": []
          },
          "execution_count": 14
        }
      ]
    },
    {
      "cell_type": "code",
      "metadata": {
        "id": "mCS9Yr4sYnPa",
        "colab_type": "code",
        "outputId": "cdd0faa2-b6f3-4c1e-9739-153202ddd820",
        "colab": {
          "base_uri": "https://localhost:8080/",
          "height": 297
        }
      },
      "source": [
        "acc = model_in.history.history['accuracy']\n",
        "val_acc = model_in.history.history['val_accuracy']\n",
        "\n",
        "loss = model_in.history.history['loss']\n",
        "val_loss = model_in.history.history['val_loss']\n",
        "\n",
        "plt.figure(figsize=(10,4))\n",
        "plt.subplot(1, 2, 1)\n",
        "plt.plot(acc, label='Train')\n",
        "plt.plot(val_acc, label='Val')\n",
        "plt.legend(loc='lower right')\n",
        "plt.ylabel('Accuracy')\n",
        "plt.ylim([min(plt.ylim()),1])\n",
        "plt.title('InceptionResnet: Training and Validation Accuracy')\n",
        "\n",
        "plt.subplot(1,2, 2)\n",
        "plt.plot(loss, label='Train')\n",
        "plt.plot(val_loss, label='Val')\n",
        "plt.legend(loc='upper right')\n",
        "plt.ylabel('Loss')\n",
        "plt.ylim([0,5.0])\n",
        "plt.title('InceptionResnet: Training and Validation Loss')\n",
        "plt.xlabel('epoch')\n",
        "plt.tight_layout()\n",
        "plt.show()"
      ],
      "execution_count": 0,
      "outputs": [
        {
          "output_type": "display_data",
          "data": {
            "image/png": "[encoded data removed]",
            "text/plain": [
              "<Figure size 720x288 with 2 Axes>"
            ]
          },
          "metadata": {
            "tags": []
          }
        }
      ]
    },
    {
      "cell_type": "markdown",
      "metadata": {
        "id": "Z9Cikb8GZsBG",
        "colab_type": "text"
      },
      "source": [
        "### 3. Resnet50: feature extraction"
      ]
    },
    {
      "cell_type": "code",
      "metadata": {
        "id": "YrbVrcSm6psN",
        "colab_type": "code",
        "outputId": "89dd239d-f61a-4bc8-ebe8-eee677b77c5c",
        "colab": {
          "base_uri": "https://localhost:8080/",
          "height": 967
        }
      },
      "source": [
        "# Compile, Train, and Test\n",
        "model_res.compile(optimizer=SGD(lr=0.001, momentum=0.9), loss='categorical_crossentropy', metrics = ['accuracy'])\n",
        "model_res.fit(training_set, epochs = 20, validation_data = val_set, callbacks=[callback], verbose=1)\n",
        " \n",
        "model_res.save_weights(\"model_res.h5\")\n",
        "\n",
        "# Test the model \n",
        "model_res.evaluate(test_set)"
      ],
      "execution_count": 0,
      "outputs": [
        {
          "output_type": "stream",
          "text": [
            "WARNING:tensorflow:sample_weight modes were coerced from\n",
            "  ...\n",
            "    to  \n",
            "  ['...']\n",
            "WARNING:tensorflow:sample_weight modes were coerced from\n",
            "  ...\n",
            "    to  \n",
            "  ['...']\n",
            "Train for 103 steps, validate for 29 steps\n",
            "Epoch 1/20\n",
            "103/103 [==============================] - 27s 260ms/step - loss: 2.2883 - accuracy: 0.5218 - val_loss: 3.7149 - val_accuracy: 0.3723\n",
            "Epoch 2/20\n",
            "103/103 [==============================] - 24s 229ms/step - loss: 0.8275 - accuracy: 0.7803 - val_loss: 4.1892 - val_accuracy: 0.3723\n",
            "Epoch 3/20\n",
            "103/103 [==============================] - 23s 228ms/step - loss: 0.5743 - accuracy: 0.8289 - val_loss: 4.0000 - val_accuracy: 0.3723\n",
            "Epoch 4/20\n",
            "103/103 [==============================] - 24s 230ms/step - loss: 0.4507 - accuracy: 0.8519 - val_loss: 3.7043 - val_accuracy: 0.3723\n",
            "Epoch 5/20\n",
            "103/103 [==============================] - 23s 226ms/step - loss: 0.4395 - accuracy: 0.8762 - val_loss: 3.2319 - val_accuracy: 0.3723\n",
            "Epoch 6/20\n",
            "103/103 [==============================] - 24s 228ms/step - loss: 0.4309 - accuracy: 0.8592 - val_loss: 3.1567 - val_accuracy: 0.3723\n",
            "Epoch 7/20\n",
            "103/103 [==============================] - 23s 226ms/step - loss: 0.3487 - accuracy: 0.8786 - val_loss: 3.1291 - val_accuracy: 0.3723\n",
            "Epoch 8/20\n",
            "103/103 [==============================] - 23s 228ms/step - loss: 0.3384 - accuracy: 0.8823 - val_loss: 3.1331 - val_accuracy: 0.3723\n",
            "Epoch 9/20\n",
            "103/103 [==============================] - 24s 233ms/step - loss: 0.3325 - accuracy: 0.8786 - val_loss: 3.1194 - val_accuracy: 0.3723\n",
            "Epoch 10/20\n",
            "103/103 [==============================] - 23s 227ms/step - loss: 0.2856 - accuracy: 0.8956 - val_loss: 3.1028 - val_accuracy: 0.3723\n",
            "Epoch 11/20\n",
            "103/103 [==============================] - 23s 228ms/step - loss: 0.3197 - accuracy: 0.8896 - val_loss: 3.0865 - val_accuracy: 0.3723\n",
            "Epoch 12/20\n",
            "103/103 [==============================] - 24s 229ms/step - loss: 0.3553 - accuracy: 0.8701 - val_loss: 3.1040 - val_accuracy: 0.3723\n",
            "Epoch 13/20\n",
            "103/103 [==============================] - 23s 226ms/step - loss: 0.2975 - accuracy: 0.9005 - val_loss: 3.1026 - val_accuracy: 0.3723\n",
            "Epoch 14/20\n",
            "103/103 [==============================] - 24s 228ms/step - loss: 0.3008 - accuracy: 0.8932 - val_loss: 3.1054 - val_accuracy: 0.3723\n",
            "Epoch 15/20\n",
            "103/103 [==============================] - 23s 228ms/step - loss: 0.2651 - accuracy: 0.9053 - val_loss: 3.1158 - val_accuracy: 0.3723\n",
            "Epoch 16/20\n",
            "103/103 [==============================] - 23s 226ms/step - loss: 0.3196 - accuracy: 0.8750 - val_loss: 3.1111 - val_accuracy: 0.3723\n",
            "Epoch 17/20\n",
            "103/103 [==============================] - 24s 228ms/step - loss: 0.3090 - accuracy: 0.8932 - val_loss: 3.1104 - val_accuracy: 0.3723\n",
            "Epoch 18/20\n",
            "103/103 [==============================] - 23s 225ms/step - loss: 0.2500 - accuracy: 0.9078 - val_loss: 3.1101 - val_accuracy: 0.3723\n",
            "Epoch 19/20\n",
            "103/103 [==============================] - 24s 231ms/step - loss: 0.2652 - accuracy: 0.8981 - val_loss: 3.1095 - val_accuracy: 0.3723\n",
            "Epoch 20/20\n",
            "103/103 [==============================] - 23s 225ms/step - loss: 0.2803 - accuracy: 0.8908 - val_loss: 3.1100 - val_accuracy: 0.3723\n",
            "WARNING:tensorflow:sample_weight modes were coerced from\n",
            "  ...\n",
            "    to  \n",
            "  ['...']\n",
            "15/15 [==============================] - 2s 154ms/step - loss: 3.1295 - accuracy: 0.3675\n"
          ],
          "name": "stdout"
        },
        {
          "output_type": "execute_result",
          "data": {
            "text/plain": [
              "[3.1295172373453775, 0.36752138]"
            ]
          },
          "metadata": {
            "tags": []
          },
          "execution_count": 16
        }
      ]
    },
    {
      "cell_type": "code",
      "metadata": {
        "id": "1uixGZMXN1zd",
        "colab_type": "code",
        "outputId": "c96e3dd0-67bd-448d-95ce-4f0df778edd3",
        "colab": {
          "base_uri": "https://localhost:8080/",
          "height": 297
        }
      },
      "source": [
        "acc = model_res.history.history['accuracy']\n",
        "val_acc = model_res.history.history['val_accuracy']\n",
        "\n",
        "loss = model_res.history.history['loss']\n",
        "val_loss = model_res.history.history['val_loss']\n",
        "\n",
        "plt.figure(figsize=(10, 4))\n",
        "plt.subplot(1, 2, 1)\n",
        "plt.plot(acc, label='Train')\n",
        "plt.plot(val_acc, label='Val')\n",
        "plt.legend()\n",
        "plt.ylabel('Accuracy')\n",
        "plt.ylim([0,1.0])\n",
        "plt.ylim([min(plt.ylim()),1])\n",
        "plt.title('Resnet50: Training and Validation Accuracy')\n",
        "\n",
        "plt.subplot(1, 2, 2)\n",
        "plt.plot(loss, label='Train')\n",
        "plt.plot(val_loss, label='Val')\n",
        "plt.legend()\n",
        "plt.ylabel('Loss')\n",
        "plt.ylim([0,5.0])\n",
        "plt.title('Resnet50: Training and Validation Loss')\n",
        "plt.xlabel('epoch')\n",
        "plt.tight_layout()\n",
        "plt.show()\n"
      ],
      "execution_count": 0,
      "outputs": [
        {
          "output_type": "display_data",
          "data": {
            "image/png": "[encoded data removed]",
            "text/plain": [
              "<Figure size 720x288 with 2 Axes>"
            ]
          },
          "metadata": {
            "tags": []
          }
        }
      ]
    },
    {
      "cell_type": "markdown",
      "metadata": {
        "id": "bDgHFgu0dgRq",
        "colab_type": "text"
      },
      "source": [
        "### 4: InceptionV3: feature extraction"
      ]
    },
    {
      "cell_type": "code",
      "metadata": {
        "id": "1M9ltmundkSX",
        "colab_type": "code",
        "outputId": "c90c3a10-7d64-4b76-a51e-3d022e370da9",
        "colab": {
          "base_uri": "https://localhost:8080/",
          "height": 967
        }
      },
      "source": [
        "# Compile, Train, and Test\n",
        "model_inv3.compile(optimizer=SGD(lr=0.001, momentum=0.9), loss='categorical_crossentropy', metrics = ['accuracy'])\n",
        "model_inv3.fit(training_set, epochs = 20, validation_data = val_set, callbacks=[callback], verbose=1)\n",
        " \n",
        "model_inv3.save_weights(\"model_inv3.h5\")\n",
        "\n",
        "# Test the model \n",
        "model_inv3.evaluate(test_set)"
      ],
      "execution_count": 0,
      "outputs": [
        {
          "output_type": "stream",
          "text": [
            "WARNING:tensorflow:sample_weight modes were coerced from\n",
            "  ...\n",
            "    to  \n",
            "  ['...']\n",
            "WARNING:tensorflow:sample_weight modes were coerced from\n",
            "  ...\n",
            "    to  \n",
            "  ['...']\n",
            "Train for 103 steps, validate for 29 steps\n",
            "Epoch 1/20\n",
            "103/103 [==============================] - 28s 274ms/step - loss: 1.4272 - accuracy: 0.4248 - val_loss: 1.3102 - val_accuracy: 0.5628\n",
            "Epoch 2/20\n",
            "103/103 [==============================] - 24s 236ms/step - loss: 1.0713 - accuracy: 0.6226 - val_loss: 1.4469 - val_accuracy: 0.5281\n",
            "Epoch 3/20\n",
            "103/103 [==============================] - 24s 234ms/step - loss: 0.7714 - accuracy: 0.6881 - val_loss: 1.5255 - val_accuracy: 0.5411\n",
            "Epoch 4/20\n",
            "103/103 [==============================] - 24s 232ms/step - loss: 0.7387 - accuracy: 0.6990 - val_loss: 1.4306 - val_accuracy: 0.5584\n",
            "Epoch 5/20\n",
            "103/103 [==============================] - 24s 232ms/step - loss: 0.7426 - accuracy: 0.6845 - val_loss: 1.1716 - val_accuracy: 0.5974\n",
            "Epoch 6/20\n",
            "103/103 [==============================] - 25s 246ms/step - loss: 0.7276 - accuracy: 0.7124 - val_loss: 1.1056 - val_accuracy: 0.5887\n",
            "Epoch 7/20\n",
            "103/103 [==============================] - 25s 244ms/step - loss: 0.7270 - accuracy: 0.6978 - val_loss: 1.2883 - val_accuracy: 0.5714\n",
            "Epoch 8/20\n",
            "103/103 [==============================] - 25s 241ms/step - loss: 0.6659 - accuracy: 0.7318 - val_loss: 1.3063 - val_accuracy: 0.5584\n",
            "Epoch 9/20\n",
            "103/103 [==============================] - 25s 242ms/step - loss: 0.6607 - accuracy: 0.7330 - val_loss: 1.4089 - val_accuracy: 0.5498\n",
            "Epoch 10/20\n",
            "103/103 [==============================] - 24s 232ms/step - loss: 0.6526 - accuracy: 0.7427 - val_loss: 1.2838 - val_accuracy: 0.5628\n",
            "Epoch 11/20\n",
            "103/103 [==============================] - 25s 242ms/step - loss: 0.6730 - accuracy: 0.7197 - val_loss: 1.3434 - val_accuracy: 0.5671\n",
            "Epoch 12/20\n",
            "103/103 [==============================] - 25s 239ms/step - loss: 0.6210 - accuracy: 0.7779 - val_loss: 1.3469 - val_accuracy: 0.5584\n",
            "Epoch 13/20\n",
            "103/103 [==============================] - 25s 246ms/step - loss: 0.6926 - accuracy: 0.7148 - val_loss: 1.3401 - val_accuracy: 0.5628\n",
            "Epoch 14/20\n",
            "103/103 [==============================] - 24s 236ms/step - loss: 0.6535 - accuracy: 0.7197 - val_loss: 1.3381 - val_accuracy: 0.5628\n",
            "Epoch 15/20\n",
            "103/103 [==============================] - 25s 244ms/step - loss: 0.6366 - accuracy: 0.7451 - val_loss: 1.3355 - val_accuracy: 0.5584\n",
            "Epoch 16/20\n",
            "103/103 [==============================] - 25s 246ms/step - loss: 0.6526 - accuracy: 0.7512 - val_loss: 1.3318 - val_accuracy: 0.5584\n",
            "Epoch 17/20\n",
            "103/103 [==============================] - 25s 240ms/step - loss: 0.6700 - accuracy: 0.7367 - val_loss: 1.3260 - val_accuracy: 0.5584\n",
            "Epoch 18/20\n",
            "103/103 [==============================] - 25s 247ms/step - loss: 0.6592 - accuracy: 0.7451 - val_loss: 1.3249 - val_accuracy: 0.5584\n",
            "Epoch 19/20\n",
            "103/103 [==============================] - 25s 243ms/step - loss: 0.6375 - accuracy: 0.7561 - val_loss: 1.3241 - val_accuracy: 0.5584\n",
            "Epoch 20/20\n",
            "103/103 [==============================] - 24s 236ms/step - loss: 0.6559 - accuracy: 0.7342 - val_loss: 1.3236 - val_accuracy: 0.5584\n",
            "WARNING:tensorflow:sample_weight modes were coerced from\n",
            "  ...\n",
            "    to  \n",
            "  ['...']\n",
            "15/15 [==============================] - 3s 173ms/step - loss: 1.3900 - accuracy: 0.5470\n"
          ],
          "name": "stdout"
        },
        {
          "output_type": "execute_result",
          "data": {
            "text/plain": [
              "[1.3899903098742168, 0.5470086]"
            ]
          },
          "metadata": {
            "tags": []
          },
          "execution_count": 18
        }
      ]
    },
    {
      "cell_type": "code",
      "metadata": {
        "id": "vP4WDkVjdtNz",
        "colab_type": "code",
        "outputId": "d443ca0b-ef3e-4462-8f17-d5369c2fe8c5",
        "colab": {
          "base_uri": "https://localhost:8080/",
          "height": 297
        }
      },
      "source": [
        "acc = model_inv3.history.history['accuracy']\n",
        "val_acc = model_inv3.history.history['val_accuracy']\n",
        "\n",
        "loss = model_inv3.history.history['loss']\n",
        "val_loss = model_inv3.history.history['val_loss']\n",
        "\n",
        "plt.figure(figsize=(10, 4))\n",
        "plt.subplot(1, 2, 1)\n",
        "plt.plot(acc, label='Train')\n",
        "plt.plot(val_acc, label='Val')\n",
        "plt.legend()\n",
        "plt.ylabel('Accuracy')\n",
        "plt.ylim([0,1.0])\n",
        "plt.ylim([min(plt.ylim()),1])\n",
        "plt.title('InceptionV3: Training and Validation Accuracy')\n",
        "\n",
        "plt.subplot(1, 2, 2)\n",
        "plt.plot(loss, label='Train')\n",
        "plt.plot(val_loss, label='Val')\n",
        "plt.legend()\n",
        "plt.ylabel('Loss')\n",
        "plt.ylim([0,5.0])\n",
        "plt.title('InceptionV3: Training and Validation Loss')\n",
        "plt.xlabel('epoch')\n",
        "plt.tight_layout()\n",
        "plt.show()\n"
      ],
      "execution_count": 0,
      "outputs": [
        {
          "output_type": "display_data",
          "data": {
            "image/png": "[encoded data removed]",
            "text/plain": [
              "<Figure size 720x288 with 2 Axes>"
            ]
          },
          "metadata": {
            "tags": []
          }
        }
      ]
    },
    {
      "cell_type": "code",
      "metadata": {
        "id": "3xTvTB0JiBsD",
        "colab_type": "code",
        "colab": {}
      },
      "source": [
        ""
      ],
      "execution_count": 0,
      "outputs": []
    }
  ]
}
{
  "nbformat": 4,
  "nbformat_minor": 0,
  "metadata": {
    "colab": {
      "name": "tf_feat_ex_adam.ipynb",
      "provenance": [],
      "collapsed_sections": [],
      "authorship_tag": "ABX9TyO+5mg+a+1o+oSCailcgueL",
      "include_colab_link": true
    },
    "kernelspec": {
      "name": "python3",
      "display_name": "Python 3"
    },
    "accelerator": "GPU"
  },
  "cells": [
    {
      "cell_type": "markdown",
      "metadata": {
        "id": "view-in-github",
        "colab_type": "text"
      },
      "source": [
        "<a href=\"https://colab.research.google.com/github/euniceky/YogaPoseDetection/blob/master/tf_feat_ex_adam.ipynb\" target=\"_parent\"><img src=\"https://colab.research.google.com/assets/colab-badge.svg\" alt=\"Open In Colab\"/></a>"
      ]
    },
    {
      "cell_type": "code",
      "metadata": {
        "id": "L0SZgLhgCpIR",
        "colab_type": "code",
        "outputId": "a77819d5-1be1-4b5c-c8b2-46c0dfb07a79",
        "colab": {
          "base_uri": "https://localhost:8080/",
          "height": 141
        }
      },
      "source": [
        "from __future__ import print_function, division\n",
        "import os\n",
        "import time\n",
        "import copy\n",
        "import warnings\n",
        "warnings.filterwarnings(\"ignore\")\n",
        "import matplotlib.pyplot as plt\n",
        "import numpy as np\n",
        "\n",
        "%tensorflow_version 2.x\n",
        "import tensorflow as tf\n",
        "from tensorflow.keras.applications import ResNet50, InceptionResNetV2, InceptionV3\n",
        "from tensorflow.keras.layers import Dense, Flatten, Conv2D, Dropout, MaxPooling2D, GlobalAveragePooling2D\n",
        "from tensorflow.keras.optimizers import SGD, Adam\n",
        "from tensorflow.keras import Model\n",
        "from tensorflow.keras.applications.imagenet_utils import preprocess_input\n",
        "from tensorflow.keras.preprocessing.image import ImageDataGenerator\n",
        "from tensorflow.keras.callbacks import LearningRateScheduler\n",
        "import math\n",
        "\n",
        "from google.colab import drive\n",
        "drive.mount('/content/drive',force_remount=True)"
      ],
      "execution_count": 0,
      "outputs": [
        {
          "output_type": "stream",
          "text": [
            "TensorFlow 2.x selected.\n",
            "Go to this URL in a browser: https://accounts.google.com/o/oauth2/auth?client_id=947318989803-6bn6qk8qdgf4n4g3pfee6491hc0brc4i.apps.googleusercontent.com&redirect_uri=urn%3aietf%3awg%3aoauth%3a2.0%3aoob&response_type=code&scope=email%20https%3a%2f%2fwww.googleapis.com%2fauth%2fdocs.test%20https%3a%2f%2fwww.googleapis.com%2fauth%2fdrive%20https%3a%2f%2fwww.googleapis.com%2fauth%2fdrive.photos.readonly%20https%3a%2f%2fwww.googleapis.com%2fauth%2fpeopleapi.readonly\n",
            "\n",
            "Enter your authorization code:\n",
            "··········\n",
            "Mounted at /content/drive\n"
          ],
          "name": "stdout"
        }
      ]
    },
    {
      "cell_type": "code",
      "metadata": {
        "id": "BZf3nKnYDj1p",
        "colab_type": "code",
        "outputId": "38956186-337b-4cbd-e227-0da523da3e74",
        "colab": {
          "base_uri": "https://localhost:8080/",
          "height": 35
        }
      },
      "source": [
        "print(tf.__version__)"
      ],
      "execution_count": 0,
      "outputs": [
        {
          "output_type": "stream",
          "text": [
            "2.1.0-rc1\n"
          ],
          "name": "stdout"
        }
      ]
    },
    {
      "cell_type": "markdown",
      "metadata": {
        "id": "JGj02gTfZa2d",
        "colab_type": "text"
      },
      "source": [
        "# Model introduction"
      ]
    },
    {
      "cell_type": "code",
      "metadata": {
        "id": "AmE-_GzxkoW7",
        "colab_type": "code",
        "outputId": "0cd86793-06db-48f2-b6aa-5d54abe90374",
        "colab": {
          "base_uri": "https://localhost:8080/",
          "height": 432
        }
      },
      "source": [
        "# Built from scratch\n",
        "model_scratch = tf.keras.Sequential([\n",
        "  Conv2D(32, (3, 3), activation='relu', padding='same', input_shape=(224, 224, 3)),\n",
        "  Conv2D(64, (3, 3), activation='relu', padding='same'),\n",
        "  MaxPooling2D(pool_size=(2, 2)),\n",
        "  #Dropout(0.25),\n",
        "\n",
        "  Conv2D(128, (3, 3), activation='relu'),\n",
        "  Conv2D(128, (3, 3), activation='relu'),\n",
        "  MaxPooling2D(pool_size=(2, 2)),\n",
        "  #Dropout(0.25),\n",
        "  \n",
        "  GlobalAveragePooling2D(),\n",
        "  Dense(4, activation='softmax')\n",
        "])\n",
        "\n",
        "model_scratch.summary()"
      ],
      "execution_count": 0,
      "outputs": [
        {
          "output_type": "stream",
          "text": [
            "Model: \"sequential\"\n",
            "_________________________________________________________________\n",
            "Layer (type)                 Output Shape              Param #   \n",
            "=================================================================\n",
            "conv2d (Conv2D)              (None, 224, 224, 32)      896       \n",
            "_________________________________________________________________\n",
            "conv2d_1 (Conv2D)            (None, 224, 224, 64)      18496     \n",
            "_________________________________________________________________\n",
            "max_pooling2d (MaxPooling2D) (None, 112, 112, 64)      0         \n",
            "_________________________________________________________________\n",
            "conv2d_2 (Conv2D)            (None, 110, 110, 128)     73856     \n",
            "_________________________________________________________________\n",
            "conv2d_3 (Conv2D)            (None, 108, 108, 128)     147584    \n",
            "_________________________________________________________________\n",
            "max_pooling2d_1 (MaxPooling2 (None, 54, 54, 128)       0         \n",
            "_________________________________________________________________\n",
            "global_average_pooling2d (Gl (None, 128)               0         \n",
            "_________________________________________________________________\n",
            "dense (Dense)                (None, 4)                 516       \n",
            "=================================================================\n",
            "Total params: 241,348\n",
            "Trainable params: 241,348\n",
            "Non-trainable params: 0\n",
            "_________________________________________________________________\n"
          ],
          "name": "stdout"
        }
      ]
    },
    {
      "cell_type": "code",
      "metadata": {
        "id": "8keeVz56ocnV",
        "colab_type": "code",
        "outputId": "676cf5ad-47eb-4318-8863-30edf651b8ad",
        "colab": {
          "base_uri": "https://localhost:8080/",
          "height": 501
        }
      },
      "source": [
        "# Built from scratch with dense layers\n",
        "model_scratch2 = tf.keras.Sequential([\n",
        "  Conv2D(32, (3, 3), activation='relu', padding='same', input_shape=(224, 224, 3)),\n",
        "  Conv2D(64, (3, 3), activation='relu', padding='same'),\n",
        "  MaxPooling2D(pool_size=(2, 2)),\n",
        "  #Dropout(0.25),\n",
        "\n",
        "  Conv2D(128, (3, 3), activation='relu'),\n",
        "  Conv2D(128, (3, 3), activation='relu'),\n",
        "  MaxPooling2D(pool_size=(2, 2)),\n",
        "  #Dropout(0.25),\n",
        "  \n",
        "  Dense(1024),\n",
        "  Dense(1024),\n",
        "  GlobalAveragePooling2D(),\n",
        "  Dense(4, activation='softmax')\n",
        "])\n",
        "\n",
        "model_scratch2.summary()"
      ],
      "execution_count": 0,
      "outputs": [
        {
          "output_type": "stream",
          "text": [
            "Model: \"sequential_2\"\n",
            "_________________________________________________________________\n",
            "Layer (type)                 Output Shape              Param #   \n",
            "=================================================================\n",
            "conv2d_8 (Conv2D)            (None, 224, 224, 32)      896       \n",
            "_________________________________________________________________\n",
            "conv2d_9 (Conv2D)            (None, 224, 224, 64)      18496     \n",
            "_________________________________________________________________\n",
            "max_pooling2d_4 (MaxPooling2 (None, 112, 112, 64)      0         \n",
            "_________________________________________________________________\n",
            "conv2d_10 (Conv2D)           (None, 110, 110, 128)     73856     \n",
            "_________________________________________________________________\n",
            "conv2d_11 (Conv2D)           (None, 108, 108, 128)     147584    \n",
            "_________________________________________________________________\n",
            "max_pooling2d_5 (MaxPooling2 (None, 54, 54, 128)       0         \n",
            "_________________________________________________________________\n",
            "dense_4 (Dense)              (None, 54, 54, 1024)      132096    \n",
            "_________________________________________________________________\n",
            "dense_5 (Dense)              (None, 54, 54, 1024)      1049600   \n",
            "_________________________________________________________________\n",
            "global_average_pooling2d_2 ( (None, 1024)              0         \n",
            "_________________________________________________________________\n",
            "dense_6 (Dense)              (None, 4)                 4100      \n",
            "=================================================================\n",
            "Total params: 1,426,628\n",
            "Trainable params: 1,426,628\n",
            "Non-trainable params: 0\n",
            "_________________________________________________________________\n"
          ],
          "name": "stdout"
        }
      ]
    },
    {
      "cell_type": "code",
      "metadata": {
        "id": "B3y8q0-9jBG7",
        "colab_type": "code",
        "outputId": "6ab38afc-c7b4-4ca0-df98-573920981b79",
        "colab": {
          "base_uri": "https://localhost:8080/",
          "height": 121
        }
      },
      "source": [
        "base_model_in = InceptionResNetV2(include_top=False, weights='imagenet', input_shape=(299,299,3))\n",
        "base_model_res = ResNet50(include_top=False, weights='imagenet', input_shape=(224, 224, 3))\n",
        "base_model_inv3 = InceptionV3(include_top=False, weights='imagenet', input_shape=(224, 224, 3))"
      ],
      "execution_count": 0,
      "outputs": [
        {
          "output_type": "stream",
          "text": [
            "Downloading data from https://github.com/fchollet/deep-learning-models/releases/download/v0.7/inception_resnet_v2_weights_tf_dim_ordering_tf_kernels_notop.h5\n",
            "219062272/219055592 [==============================] - 3s 0us/step\n",
            "Downloading data from https://github.com/keras-team/keras-applications/releases/download/resnet/resnet50_weights_tf_dim_ordering_tf_kernels_notop.h5\n",
            "94773248/94765736 [==============================] - 1s 0us/step\n",
            "Downloading data from https://github.com/fchollet/deep-learning-models/releases/download/v0.5/inception_v3_weights_tf_dim_ordering_tf_kernels_notop.h5\n",
            "87916544/87910968 [==============================] - 1s 0us/step\n"
          ],
          "name": "stdout"
        }
      ]
    },
    {
      "cell_type": "code",
      "metadata": {
        "id": "SIqosziyylmD",
        "colab_type": "code",
        "colab": {}
      },
      "source": [
        "base_model_in.trainable = False\n",
        "base_model_res.trainable = False\n",
        "base_model_inv3.trainable = False\n",
        "#for layer in base_model2.layers[:]:\n",
        "#   layer.trainable = True"
      ],
      "execution_count": 0,
      "outputs": []
    },
    {
      "cell_type": "code",
      "metadata": {
        "id": "QS5RVFOcEUHr",
        "colab_type": "code",
        "colab": {}
      },
      "source": [
        "# Add the output layers\n",
        "model_in = tf.keras.Sequential([base_model_in, \n",
        "                              GlobalAveragePooling2D(),\n",
        "                              Dense(4, activation='softmax')])\n",
        " \n",
        "model_res = tf.keras.Sequential([base_model_res, \n",
        "                              GlobalAveragePooling2D(),\n",
        "                              Dense(4, activation='softmax')])\n",
        "\n",
        "\n",
        "model_inv3 = tf.keras.Sequential([base_model_inv3, \n",
        "                              GlobalAveragePooling2D(),\n",
        "                              Dense(4, activation='softmax')])"
      ],
      "execution_count": 0,
      "outputs": []
    },
    {
      "cell_type": "markdown",
      "metadata": {
        "id": "EkljcUU5ZSRr",
        "colab_type": "text"
      },
      "source": [
        "# Data preprocessing, image augmentation"
      ]
    },
    {
      "cell_type": "code",
      "metadata": {
        "id": "wHLXCJLTykTg",
        "colab_type": "code",
        "outputId": "38f9c076-cfda-42f3-9387-2f46f167bb15",
        "colab": {
          "base_uri": "https://localhost:8080/",
          "height": 69
        }
      },
      "source": [
        "# Creating objects for image augmentations\n",
        "train_datagen = ImageDataGenerator(preprocessing_function= preprocess_input,\n",
        "                                   rescale = 1./255,\n",
        "                                   rotation_range = 30,\n",
        "                                   horizontal_flip = True,\n",
        "                                   featurewise_center = True, \n",
        "                                   featurewise_std_normalization = True)\n",
        "val_datagen = ImageDataGenerator(preprocessing_function=preprocess_input,\n",
        "                                 rescale = 1./255, featurewise_center=True,\n",
        "                                        featurewise_std_normalization=True)\n",
        " \n",
        "test_datagen = ImageDataGenerator(preprocessing_function= preprocess_input,\n",
        "                                  rescale = 1./255, featurewise_center=True,\n",
        "                                        featurewise_std_normalization=True)\n",
        "\n",
        "# Creating datasets\n",
        "training_set = train_datagen.flow_from_directory('/content/drive/My Drive/train',\n",
        "                                                 target_size = (224, 224),\n",
        "                                                 batch_size = 8,\n",
        "                                                 class_mode = 'categorical', shuffle=True)\n",
        "val_set = val_datagen.flow_from_directory('/content/drive/My Drive/val',\n",
        "                                            target_size = (224, 224),\n",
        "                                            batch_size = 8,\n",
        "                                            class_mode = 'categorical')\n",
        "\n",
        "test_set = test_datagen.flow_from_directory('/content/drive/My Drive/test',\n",
        "                                            target_size = (224, 224),\n",
        "                                            batch_size = 8,\n",
        "                                            class_mode = 'categorical')\n",
        " "
      ],
      "execution_count": 0,
      "outputs": [
        {
          "output_type": "stream",
          "text": [
            "Found 824 images belonging to 4 classes.\n",
            "Found 231 images belonging to 4 classes.\n",
            "Found 117 images belonging to 4 classes.\n"
          ],
          "name": "stdout"
        }
      ]
    },
    {
      "cell_type": "markdown",
      "metadata": {
        "id": "F6yARrY4ZMBB",
        "colab_type": "text"
      },
      "source": [
        "# Training Models"
      ]
    },
    {
      "cell_type": "markdown",
      "metadata": {
        "id": "9lMX27-pZiaq",
        "colab_type": "text"
      },
      "source": [
        "### 1. From scratch model without dropouts\n"
      ]
    },
    {
      "cell_type": "code",
      "metadata": {
        "id": "H7pAJzAUomHS",
        "colab_type": "code",
        "colab": {}
      },
      "source": [
        "# Decaying learning rate\n",
        "def step_decay(epoch):\n",
        "   initial_lrate = 0.001\n",
        "   drop = 0.1\n",
        "   epochs_drop = 5.0\n",
        "   lrate = initial_lrate * math.pow(drop,  \n",
        "           math.floor((epoch-1)/epochs_drop))\n",
        "   return lrate\n",
        "callback = tf.keras.callbacks.LearningRateScheduler(step_decay)"
      ],
      "execution_count": 0,
      "outputs": []
    },
    {
      "cell_type": "code",
      "metadata": {
        "id": "c9pHO_54Y4xL",
        "colab_type": "code",
        "outputId": "d30d09b5-b776-4f12-e910-5507e1e32491",
        "colab": {
          "base_uri": "https://localhost:8080/",
          "height": 967
        }
      },
      "source": [
        "# Compile, Train, and Test\n",
        "model_scratch.compile(optimizer=Adam(lr=0.001), loss='categorical_crossentropy', metrics = ['accuracy'])\n",
        "model_scratch.fit(training_set, epochs = 20, validation_data = val_set, callbacks=[callback], verbose=1)\n",
        "\n",
        "model_scratch.save_weights(\"model_scratch.h5\")\n",
        "# Test the model \n",
        "model_scratch.evaluate(test_set)"
      ],
      "execution_count": 0,
      "outputs": [
        {
          "output_type": "stream",
          "text": [
            "WARNING:tensorflow:sample_weight modes were coerced from\n",
            "  ...\n",
            "    to  \n",
            "  ['...']\n",
            "WARNING:tensorflow:sample_weight modes were coerced from\n",
            "  ...\n",
            "    to  \n",
            "  ['...']\n",
            "Train for 103 steps, validate for 29 steps\n",
            "Epoch 1/20\n",
            "103/103 [==============================] - 187s 2s/step - loss: 1.4198 - accuracy: 0.3471 - val_loss: 1.3448 - val_accuracy: 0.3723\n",
            "Epoch 2/20\n",
            "103/103 [==============================] - 24s 230ms/step - loss: 1.3481 - accuracy: 0.3677 - val_loss: 1.3445 - val_accuracy: 0.3723\n",
            "Epoch 3/20\n",
            "103/103 [==============================] - 24s 229ms/step - loss: 1.3482 - accuracy: 0.3677 - val_loss: 1.3445 - val_accuracy: 0.3723\n",
            "Epoch 4/20\n",
            "103/103 [==============================] - 24s 232ms/step - loss: 1.3482 - accuracy: 0.3677 - val_loss: 1.3444 - val_accuracy: 0.3723\n",
            "Epoch 5/20\n",
            "103/103 [==============================] - 24s 230ms/step - loss: 1.3480 - accuracy: 0.3677 - val_loss: 1.3445 - val_accuracy: 0.3723\n",
            "Epoch 6/20\n",
            "103/103 [==============================] - 24s 231ms/step - loss: 1.3479 - accuracy: 0.3677 - val_loss: 1.3443 - val_accuracy: 0.3723\n",
            "Epoch 7/20\n",
            "103/103 [==============================] - 24s 234ms/step - loss: 1.3474 - accuracy: 0.3677 - val_loss: 1.3443 - val_accuracy: 0.3723\n",
            "Epoch 8/20\n",
            "103/103 [==============================] - 24s 232ms/step - loss: 1.3474 - accuracy: 0.3677 - val_loss: 1.3443 - val_accuracy: 0.3723\n",
            "Epoch 9/20\n",
            "103/103 [==============================] - 24s 232ms/step - loss: 1.3474 - accuracy: 0.3677 - val_loss: 1.3443 - val_accuracy: 0.3723\n",
            "Epoch 10/20\n",
            "103/103 [==============================] - 24s 232ms/step - loss: 1.3474 - accuracy: 0.3677 - val_loss: 1.3443 - val_accuracy: 0.3723\n",
            "Epoch 11/20\n",
            "103/103 [==============================] - 24s 233ms/step - loss: 1.3474 - accuracy: 0.3677 - val_loss: 1.3443 - val_accuracy: 0.3723\n",
            "Epoch 12/20\n",
            "103/103 [==============================] - 24s 232ms/step - loss: 1.3473 - accuracy: 0.3677 - val_loss: 1.3443 - val_accuracy: 0.3723\n",
            "Epoch 13/20\n",
            "103/103 [==============================] - 24s 232ms/step - loss: 1.3473 - accuracy: 0.3677 - val_loss: 1.3443 - val_accuracy: 0.3723\n",
            "Epoch 14/20\n",
            "103/103 [==============================] - 24s 231ms/step - loss: 1.3473 - accuracy: 0.3677 - val_loss: 1.3443 - val_accuracy: 0.3723\n",
            "Epoch 15/20\n",
            "103/103 [==============================] - 24s 232ms/step - loss: 1.3473 - accuracy: 0.3677 - val_loss: 1.3443 - val_accuracy: 0.3723\n",
            "Epoch 16/20\n",
            "103/103 [==============================] - 24s 232ms/step - loss: 1.3473 - accuracy: 0.3677 - val_loss: 1.3443 - val_accuracy: 0.3723\n",
            "Epoch 17/20\n",
            "103/103 [==============================] - 24s 232ms/step - loss: 1.3473 - accuracy: 0.3677 - val_loss: 1.3443 - val_accuracy: 0.3723\n",
            "Epoch 18/20\n",
            "103/103 [==============================] - 24s 233ms/step - loss: 1.3473 - accuracy: 0.3677 - val_loss: 1.3443 - val_accuracy: 0.3723\n",
            "Epoch 19/20\n",
            "103/103 [==============================] - 24s 231ms/step - loss: 1.3473 - accuracy: 0.3677 - val_loss: 1.3443 - val_accuracy: 0.3723\n",
            "Epoch 20/20\n",
            "103/103 [==============================] - 24s 235ms/step - loss: 1.3473 - accuracy: 0.3677 - val_loss: 1.3443 - val_accuracy: 0.3723\n",
            "WARNING:tensorflow:sample_weight modes were coerced from\n",
            "  ...\n",
            "    to  \n",
            "  ['...']\n",
            "15/15 [==============================] - 20s 1s/step - loss: 1.3443 - accuracy: 0.3675\n"
          ],
          "name": "stdout"
        },
        {
          "output_type": "execute_result",
          "data": {
            "text/plain": [
              "[1.3442559083302816, 0.36752138]"
            ]
          },
          "metadata": {
            "tags": []
          },
          "execution_count": 13
        }
      ]
    },
    {
      "cell_type": "code",
      "metadata": {
        "id": "fd16kmUeY-57",
        "colab_type": "code",
        "outputId": "c4d88538-3c46-44c0-9cae-07c2d41eee93",
        "colab": {
          "base_uri": "https://localhost:8080/",
          "height": 297
        }
      },
      "source": [
        "acc = model_scratch.history.history['accuracy']\n",
        "val_acc = model_scratch.history.history['val_accuracy']\n",
        "\n",
        "loss = model_scratch.history.history['loss']\n",
        "val_loss = model_scratch.history.history['val_loss']\n",
        "\n",
        "plt.figure(figsize=(10,4))\n",
        "plt.subplot(1, 2, 1)\n",
        "plt.plot(acc, label='Train')\n",
        "plt.plot(val_acc, label='Val')\n",
        "plt.legend(loc='lower right')\n",
        "plt.xlabel('epoch') \n",
        "plt.ylabel('Accuracy')\n",
        "#plt.ylim([0,max(plt.ylim())])\n",
        "plt.title('From Scratch: Training and Validation Accuracy')\n",
        "\n",
        "plt.subplot(1,2, 2)\n",
        "plt.plot(loss, label='Train')\n",
        "plt.plot(val_loss, label='Val')\n",
        "plt.legend(loc='upper right')\n",
        "plt.xlabel('epoch')\n",
        "plt.ylabel('Loss')\n",
        "#plt.ylim([0,5.0])\n",
        "plt.title('From Scratch: Training and Validation Loss')\n",
        "plt.tight_layout()\n",
        "plt.show()"
      ],
      "execution_count": 0,
      "outputs": [
        {
          "output_type": "display_data",
          "data": {
            "image/png": "[encoded data removed]",
            "text/plain": [
              "<Figure size 720x288 with 2 Axes>"
            ]
          },
          "metadata": {
            "tags": []
          }
        }
      ]
    },
    {
      "cell_type": "markdown",
      "metadata": {
        "id": "eXFddad8pNjw",
        "colab_type": "text"
      },
      "source": [
        "### 1.5 Model from scratch, with dense layers, without dropouts"
      ]
    },
    {
      "cell_type": "code",
      "metadata": {
        "id": "LDsSNA0XpKEW",
        "colab_type": "code",
        "outputId": "c3187067-9650-4976-dbb3-1ee59d8d2ff9",
        "colab": {
          "base_uri": "https://localhost:8080/",
          "height": 967
        }
      },
      "source": [
        "# Compile, Train, and Test\n",
        "model_scratch2.compile(optimizer=Adam(lr=0.001), loss='categorical_crossentropy', metrics = ['accuracy'])\n",
        "model_scratch2.fit(training_set, epochs = 20, validation_data = val_set, callbacks=[callback], verbose=1)\n",
        "\n",
        "model_scratch2.save_weights(\"model_scratch2.h5\")\n",
        "# Test the model \n",
        "model_scratch2.evaluate(test_set)"
      ],
      "execution_count": 0,
      "outputs": [
        {
          "output_type": "stream",
          "text": [
            "WARNING:tensorflow:sample_weight modes were coerced from\n",
            "  ...\n",
            "    to  \n",
            "  ['...']\n",
            "WARNING:tensorflow:sample_weight modes were coerced from\n",
            "  ...\n",
            "    to  \n",
            "  ['...']\n",
            "Train for 103 steps, validate for 29 steps\n",
            "Epoch 1/20\n",
            "103/103 [==============================] - 27s 260ms/step - loss: 2.1687 - accuracy: 0.2864 - val_loss: 1.3490 - val_accuracy: 0.3723\n",
            "Epoch 2/20\n",
            "103/103 [==============================] - 26s 251ms/step - loss: 1.3566 - accuracy: 0.3677 - val_loss: 1.3493 - val_accuracy: 0.3723\n",
            "Epoch 3/20\n",
            "103/103 [==============================] - 26s 257ms/step - loss: 1.3580 - accuracy: 0.3677 - val_loss: 1.3734 - val_accuracy: 0.3723\n",
            "Epoch 4/20\n",
            "103/103 [==============================] - 26s 248ms/step - loss: 1.3582 - accuracy: 0.3677 - val_loss: 1.3457 - val_accuracy: 0.3723\n",
            "Epoch 5/20\n",
            "103/103 [==============================] - 26s 249ms/step - loss: 1.3555 - accuracy: 0.3677 - val_loss: 1.3451 - val_accuracy: 0.3723\n",
            "Epoch 6/20\n",
            "103/103 [==============================] - 26s 249ms/step - loss: 1.3536 - accuracy: 0.3677 - val_loss: 1.3450 - val_accuracy: 0.3723\n",
            "Epoch 7/20\n",
            "103/103 [==============================] - 26s 250ms/step - loss: 1.3486 - accuracy: 0.3677 - val_loss: 1.3446 - val_accuracy: 0.3723\n",
            "Epoch 8/20\n",
            "103/103 [==============================] - 26s 249ms/step - loss: 1.3483 - accuracy: 0.3677 - val_loss: 1.3445 - val_accuracy: 0.3723\n",
            "Epoch 9/20\n",
            "103/103 [==============================] - 26s 249ms/step - loss: 1.3481 - accuracy: 0.3677 - val_loss: 1.3443 - val_accuracy: 0.3723\n",
            "Epoch 10/20\n",
            "103/103 [==============================] - 26s 254ms/step - loss: 1.3483 - accuracy: 0.3677 - val_loss: 1.3443 - val_accuracy: 0.3723\n",
            "Epoch 11/20\n",
            "103/103 [==============================] - 26s 256ms/step - loss: 1.3484 - accuracy: 0.3677 - val_loss: 1.3443 - val_accuracy: 0.3723\n",
            "Epoch 12/20\n",
            "103/103 [==============================] - 26s 253ms/step - loss: 1.3474 - accuracy: 0.3677 - val_loss: 1.3443 - val_accuracy: 0.3723\n",
            "Epoch 13/20\n",
            "103/103 [==============================] - 26s 255ms/step - loss: 1.3475 - accuracy: 0.3677 - val_loss: 1.3443 - val_accuracy: 0.3723\n",
            "Epoch 14/20\n",
            "103/103 [==============================] - 26s 252ms/step - loss: 1.3474 - accuracy: 0.3677 - val_loss: 1.3443 - val_accuracy: 0.3723\n",
            "Epoch 15/20\n",
            "103/103 [==============================] - 26s 251ms/step - loss: 1.3474 - accuracy: 0.3677 - val_loss: 1.3443 - val_accuracy: 0.3723\n",
            "Epoch 16/20\n",
            "103/103 [==============================] - 26s 254ms/step - loss: 1.3474 - accuracy: 0.3677 - val_loss: 1.3443 - val_accuracy: 0.3723\n",
            "Epoch 17/20\n",
            "103/103 [==============================] - 26s 251ms/step - loss: 1.3473 - accuracy: 0.3677 - val_loss: 1.3443 - val_accuracy: 0.3723\n",
            "Epoch 18/20\n",
            "103/103 [==============================] - 26s 249ms/step - loss: 1.3473 - accuracy: 0.3677 - val_loss: 1.3443 - val_accuracy: 0.3723\n",
            "Epoch 19/20\n",
            "103/103 [==============================] - 26s 249ms/step - loss: 1.3473 - accuracy: 0.3677 - val_loss: 1.3443 - val_accuracy: 0.3723\n",
            "Epoch 20/20\n",
            "103/103 [==============================] - 26s 250ms/step - loss: 1.3474 - accuracy: 0.3677 - val_loss: 1.3443 - val_accuracy: 0.3723\n",
            "WARNING:tensorflow:sample_weight modes were coerced from\n",
            "  ...\n",
            "    to  \n",
            "  ['...']\n",
            "15/15 [==============================] - 2s 132ms/step - loss: 1.3443 - accuracy: 0.3675\n"
          ],
          "name": "stdout"
        },
        {
          "output_type": "execute_result",
          "data": {
            "text/plain": [
              "[1.3442843516667684, 0.36752138]"
            ]
          },
          "metadata": {
            "tags": []
          },
          "execution_count": 15
        }
      ]
    },
    {
      "cell_type": "code",
      "metadata": {
        "id": "vs_t2nf9pZtD",
        "colab_type": "code",
        "outputId": "d4d59d76-69da-4d5f-c606-341d8fe6bc73",
        "colab": {
          "base_uri": "https://localhost:8080/",
          "height": 297
        }
      },
      "source": [
        "acc = model_scratch2.history.history['accuracy']\n",
        "val_acc = model_scratch2.history.history['val_accuracy']\n",
        "\n",
        "loss = model_scratch2.history.history['loss']\n",
        "val_loss = model_scratch2.history.history['val_loss']\n",
        "\n",
        "plt.figure(figsize=(10,4))\n",
        "plt.subplot(1, 2, 1)\n",
        "plt.plot(acc, label='Train')\n",
        "plt.plot(val_acc, label='Val')\n",
        "plt.legend(loc='lower right')\n",
        "plt.ylabel('Accuracy')\n",
        "plt.xlabel('epoch')\n",
        "#plt.ylim([0,max(plt.ylim())])\n",
        "plt.title('From Scratch: Training and Validation Accuracy')\n",
        "\n",
        "plt.subplot(1,2, 2)\n",
        "plt.plot(loss, label='Train')\n",
        "plt.plot(val_loss, label='Val')\n",
        "plt.legend(loc='upper right')\n",
        "plt.ylabel('Loss')\n",
        "#plt.ylim([0,5.0])\n",
        "plt.title('From Scratch: Training and Validation Loss')\n",
        "plt.xlabel('epoch')\n",
        "plt.tight_layout()\n",
        "plt.show()"
      ],
      "execution_count": 0,
      "outputs": [
        {
          "output_type": "display_data",
          "data": {
            "image/png": "[encoded data removed]",
            "text/plain": [
              "<Figure size 720x288 with 2 Axes>"
            ]
          },
          "metadata": {
            "tags": []
          }
        }
      ]
    },
    {
      "cell_type": "markdown",
      "metadata": {
        "id": "SjwDKdL8ZmbP",
        "colab_type": "text"
      },
      "source": [
        "### 2. InceptionResnet: feature extraction\n"
      ]
    },
    {
      "cell_type": "code",
      "metadata": {
        "id": "9AoNEFwANq_F",
        "colab_type": "code",
        "outputId": "904a958b-52bf-4e8b-e135-673f496be12d",
        "colab": {
          "base_uri": "https://localhost:8080/",
          "height": 967
        }
      },
      "source": [
        "# Compile, Train, and Test\n",
        "model_in.compile(optimizer=Adam(lr=0.001), loss='categorical_crossentropy', metrics = ['accuracy'])\n",
        "model_in.fit(training_set, epochs = 20, validation_data = val_set, callbacks=[callback], verbose=1)\n",
        "# Save the model \n",
        "model_in.save_weights(\"model_in.h5\")\n",
        "\n",
        "model_in.evaluate(test_set)"
      ],
      "execution_count": 0,
      "outputs": [
        {
          "output_type": "stream",
          "text": [
            "WARNING:tensorflow:sample_weight modes were coerced from\n",
            "  ...\n",
            "    to  \n",
            "  ['...']\n",
            "WARNING:tensorflow:sample_weight modes were coerced from\n",
            "  ...\n",
            "    to  \n",
            "  ['...']\n",
            "Train for 103 steps, validate for 29 steps\n",
            "Epoch 1/20\n",
            "103/103 [==============================] - 35s 343ms/step - loss: 1.6354 - accuracy: 0.4551 - val_loss: 2.4387 - val_accuracy: 0.6320\n",
            "Epoch 2/20\n",
            "103/103 [==============================] - 25s 243ms/step - loss: 0.7937 - accuracy: 0.6869 - val_loss: 1.3375 - val_accuracy: 0.5758\n",
            "Epoch 3/20\n",
            "103/103 [==============================] - 25s 242ms/step - loss: 0.7565 - accuracy: 0.7015 - val_loss: 0.9484 - val_accuracy: 0.6883\n",
            "Epoch 4/20\n",
            "103/103 [==============================] - 25s 239ms/step - loss: 0.7118 - accuracy: 0.7184 - val_loss: 1.4002 - val_accuracy: 0.6017\n",
            "Epoch 5/20\n",
            "103/103 [==============================] - 25s 240ms/step - loss: 0.7436 - accuracy: 0.7051 - val_loss: 0.9211 - val_accuracy: 0.6753\n",
            "Epoch 6/20\n",
            "103/103 [==============================] - 24s 237ms/step - loss: 0.6730 - accuracy: 0.7512 - val_loss: 0.8130 - val_accuracy: 0.7229\n",
            "Epoch 7/20\n",
            "103/103 [==============================] - 25s 239ms/step - loss: 0.6748 - accuracy: 0.7318 - val_loss: 0.9984 - val_accuracy: 0.6623\n",
            "Epoch 8/20\n",
            "103/103 [==============================] - 25s 239ms/step - loss: 0.6401 - accuracy: 0.7585 - val_loss: 0.9967 - val_accuracy: 0.6710\n",
            "Epoch 9/20\n",
            "103/103 [==============================] - 24s 237ms/step - loss: 0.6609 - accuracy: 0.7451 - val_loss: 0.9493 - val_accuracy: 0.6753\n",
            "Epoch 10/20\n",
            "103/103 [==============================] - 25s 238ms/step - loss: 0.6276 - accuracy: 0.7694 - val_loss: 0.9851 - val_accuracy: 0.6623\n",
            "Epoch 11/20\n",
            "103/103 [==============================] - 25s 239ms/step - loss: 0.6525 - accuracy: 0.7403 - val_loss: 0.9063 - val_accuracy: 0.6623\n",
            "Epoch 12/20\n",
            "103/103 [==============================] - 24s 237ms/step - loss: 0.6394 - accuracy: 0.7403 - val_loss: 0.9313 - val_accuracy: 0.6753\n",
            "Epoch 13/20\n",
            "103/103 [==============================] - 24s 236ms/step - loss: 0.6211 - accuracy: 0.7706 - val_loss: 0.9552 - val_accuracy: 0.6667\n",
            "Epoch 14/20\n",
            "103/103 [==============================] - 25s 239ms/step - loss: 0.6465 - accuracy: 0.7439 - val_loss: 0.9621 - val_accuracy: 0.6667\n",
            "Epoch 15/20\n",
            "103/103 [==============================] - 25s 240ms/step - loss: 0.6571 - accuracy: 0.7451 - val_loss: 0.9619 - val_accuracy: 0.6667\n",
            "Epoch 16/20\n",
            "103/103 [==============================] - 25s 239ms/step - loss: 0.6550 - accuracy: 0.7427 - val_loss: 0.9709 - val_accuracy: 0.6667\n",
            "Epoch 17/20\n",
            "103/103 [==============================] - 25s 240ms/step - loss: 0.6335 - accuracy: 0.7536 - val_loss: 0.9720 - val_accuracy: 0.6667\n",
            "Epoch 18/20\n",
            "103/103 [==============================] - 25s 241ms/step - loss: 0.6069 - accuracy: 0.7755 - val_loss: 0.9716 - val_accuracy: 0.6667\n",
            "Epoch 19/20\n",
            "103/103 [==============================] - 25s 243ms/step - loss: 0.6164 - accuracy: 0.7621 - val_loss: 0.9725 - val_accuracy: 0.6667\n",
            "Epoch 20/20\n",
            "103/103 [==============================] - 25s 240ms/step - loss: 0.6386 - accuracy: 0.7476 - val_loss: 0.9737 - val_accuracy: 0.6667\n",
            "WARNING:tensorflow:sample_weight modes were coerced from\n",
            "  ...\n",
            "    to  \n",
            "  ['...']\n",
            "15/15 [==============================] - 3s 182ms/step - loss: 1.0304 - accuracy: 0.6581\n"
          ],
          "name": "stdout"
        },
        {
          "output_type": "execute_result",
          "data": {
            "text/plain": [
              "[1.030360428492228, 0.6581197]"
            ]
          },
          "metadata": {
            "tags": []
          },
          "execution_count": 17
        }
      ]
    },
    {
      "cell_type": "code",
      "metadata": {
        "id": "mCS9Yr4sYnPa",
        "colab_type": "code",
        "outputId": "8bd81cb8-65c9-45bb-a99d-2c85b46b7410",
        "colab": {
          "base_uri": "https://localhost:8080/",
          "height": 297
        }
      },
      "source": [
        "acc = model_in.history.history['accuracy']\n",
        "val_acc = model_in.history.history['val_accuracy']\n",
        "\n",
        "loss = model_in.history.history['loss']\n",
        "val_loss = model_in.history.history['val_loss']\n",
        "\n",
        "plt.figure(figsize=(10,4))\n",
        "plt.subplot(1, 2, 1)\n",
        "plt.plot(acc, label='Train')\n",
        "plt.plot(val_acc, label='Val')\n",
        "plt.legend(loc='lower right')\n",
        "plt.ylabel('Accuracy')\n",
        "plt.xlabel('epoch')\n",
        "\n",
        "plt.ylim([min(plt.ylim()),1])\n",
        "plt.title('InceptionResnet: Training and Validation Accuracy')\n",
        "\n",
        "plt.subplot(1,2, 2)\n",
        "plt.plot(loss, label='Train')\n",
        "plt.plot(val_loss, label='Val')\n",
        "plt.legend(loc='upper right')\n",
        "plt.ylabel('Loss')\n",
        "plt.ylim([0,5.0])\n",
        "plt.title('InceptionResnet: Training and Validation Loss')\n",
        "plt.xlabel('epoch')\n",
        "plt.tight_layout()\n",
        "plt.show()"
      ],
      "execution_count": 0,
      "outputs": [
        {
          "output_type": "display_data",
          "data": {
            "image/png": "[encoded data removed]",
            "text/plain": [
              "<Figure size 720x288 with 2 Axes>"
            ]
          },
          "metadata": {
            "tags": []
          }
        }
      ]
    },
    {
      "cell_type": "markdown",
      "metadata": {
        "id": "Z9Cikb8GZsBG",
        "colab_type": "text"
      },
      "source": [
        "### 3. Resnet50: feature extraction"
      ]
    },
    {
      "cell_type": "code",
      "metadata": {
        "id": "YrbVrcSm6psN",
        "colab_type": "code",
        "outputId": "ac1aba89-ac22-4a8e-a218-7a226b2ba86a",
        "colab": {
          "base_uri": "https://localhost:8080/",
          "height": 967
        }
      },
      "source": [
        "# Compile, Train, and Test\n",
        "model_res.compile(optimizer=Adam(lr=0.001), loss='categorical_crossentropy', metrics = ['accuracy'])\n",
        "model_res.fit(training_set, epochs = 20, validation_data = val_set, callbacks=[callback], verbose=1)\n",
        " \n",
        "model_res.save_weights(\"model_res.h5\")\n",
        "\n",
        "# Test the model \n",
        "model_res.evaluate(test_set)"
      ],
      "execution_count": 0,
      "outputs": [
        {
          "output_type": "stream",
          "text": [
            "WARNING:tensorflow:sample_weight modes were coerced from\n",
            "  ...\n",
            "    to  \n",
            "  ['...']\n",
            "WARNING:tensorflow:sample_weight modes were coerced from\n",
            "  ...\n",
            "    to  \n",
            "  ['...']\n",
            "Train for 103 steps, validate for 29 steps\n",
            "Epoch 1/20\n",
            "103/103 [==============================] - 27s 258ms/step - loss: 2.0089 - accuracy: 0.5595 - val_loss: 2.7931 - val_accuracy: 0.1818\n",
            "Epoch 2/20\n",
            "103/103 [==============================] - 23s 225ms/step - loss: 0.7786 - accuracy: 0.7573 - val_loss: 2.1961 - val_accuracy: 0.1861\n",
            "Epoch 3/20\n",
            "103/103 [==============================] - 23s 225ms/step - loss: 0.4664 - accuracy: 0.8265 - val_loss: 2.1036 - val_accuracy: 0.2294\n",
            "Epoch 4/20\n",
            "103/103 [==============================] - 23s 224ms/step - loss: 0.4276 - accuracy: 0.8410 - val_loss: 2.3515 - val_accuracy: 0.1861\n",
            "Epoch 5/20\n",
            "103/103 [==============================] - 23s 224ms/step - loss: 0.4253 - accuracy: 0.8447 - val_loss: 2.2624 - val_accuracy: 0.1861\n",
            "Epoch 6/20\n",
            "103/103 [==============================] - 23s 228ms/step - loss: 0.3446 - accuracy: 0.8568 - val_loss: 2.3890 - val_accuracy: 0.1861\n",
            "Epoch 7/20\n",
            "103/103 [==============================] - 23s 227ms/step - loss: 0.2737 - accuracy: 0.8932 - val_loss: 2.3693 - val_accuracy: 0.1861\n",
            "Epoch 8/20\n",
            "103/103 [==============================] - 24s 232ms/step - loss: 0.3172 - accuracy: 0.8774 - val_loss: 2.4027 - val_accuracy: 0.1861\n",
            "Epoch 9/20\n",
            "103/103 [==============================] - 24s 232ms/step - loss: 0.2451 - accuracy: 0.9126 - val_loss: 2.4170 - val_accuracy: 0.1861\n",
            "Epoch 10/20\n",
            "103/103 [==============================] - 24s 235ms/step - loss: 0.2829 - accuracy: 0.8896 - val_loss: 2.3997 - val_accuracy: 0.1861\n",
            "Epoch 11/20\n",
            "103/103 [==============================] - 24s 233ms/step - loss: 0.2844 - accuracy: 0.8920 - val_loss: 2.3773 - val_accuracy: 0.1861\n",
            "Epoch 12/20\n",
            "103/103 [==============================] - 24s 236ms/step - loss: 0.2690 - accuracy: 0.8993 - val_loss: 2.3758 - val_accuracy: 0.1861\n",
            "Epoch 13/20\n",
            "103/103 [==============================] - 24s 232ms/step - loss: 0.2589 - accuracy: 0.8956 - val_loss: 2.3733 - val_accuracy: 0.1861\n",
            "Epoch 14/20\n",
            "103/103 [==============================] - 24s 234ms/step - loss: 0.2585 - accuracy: 0.9029 - val_loss: 2.3739 - val_accuracy: 0.1861\n",
            "Epoch 15/20\n",
            "103/103 [==============================] - 24s 233ms/step - loss: 0.2853 - accuracy: 0.8896 - val_loss: 2.3699 - val_accuracy: 0.1861\n",
            "Epoch 16/20\n",
            "103/103 [==============================] - 24s 231ms/step - loss: 0.2590 - accuracy: 0.8944 - val_loss: 2.3757 - val_accuracy: 0.1861\n",
            "Epoch 17/20\n",
            "103/103 [==============================] - 24s 232ms/step - loss: 0.2733 - accuracy: 0.8981 - val_loss: 2.3756 - val_accuracy: 0.1861\n",
            "Epoch 18/20\n",
            "103/103 [==============================] - 24s 235ms/step - loss: 0.2490 - accuracy: 0.9126 - val_loss: 2.3761 - val_accuracy: 0.1861\n",
            "Epoch 19/20\n",
            "103/103 [==============================] - 24s 231ms/step - loss: 0.2645 - accuracy: 0.8956 - val_loss: 2.3766 - val_accuracy: 0.1861\n",
            "Epoch 20/20\n",
            "103/103 [==============================] - 24s 231ms/step - loss: 0.2596 - accuracy: 0.9102 - val_loss: 2.3776 - val_accuracy: 0.1861\n",
            "WARNING:tensorflow:sample_weight modes were coerced from\n",
            "  ...\n",
            "    to  \n",
            "  ['...']\n",
            "15/15 [==============================] - 2s 156ms/step - loss: 2.3223 - accuracy: 0.1880\n"
          ],
          "name": "stdout"
        },
        {
          "output_type": "execute_result",
          "data": {
            "text/plain": [
              "[2.3223194599151613, 0.18803419]"
            ]
          },
          "metadata": {
            "tags": []
          },
          "execution_count": 19
        }
      ]
    },
    {
      "cell_type": "code",
      "metadata": {
        "id": "1uixGZMXN1zd",
        "colab_type": "code",
        "outputId": "cc8345da-6af6-4de9-8542-15a34f7ac2a3",
        "colab": {
          "base_uri": "https://localhost:8080/",
          "height": 297
        }
      },
      "source": [
        "acc = model_res.history.history['accuracy']\n",
        "val_acc = model_res.history.history['val_accuracy']\n",
        "\n",
        "loss = model_res.history.history['loss']\n",
        "val_loss = model_res.history.history['val_loss']\n",
        "\n",
        "plt.figure(figsize=(10, 4))\n",
        "plt.subplot(1, 2, 1)\n",
        "plt.plot(acc, label='Train')\n",
        "plt.plot(val_acc, label='Val')\n",
        "plt.legend()\n",
        "plt.xlabel('epoch')\n",
        "plt.ylabel('Accuracy')\n",
        "plt.ylim([0,1.0])\n",
        "plt.ylim([min(plt.ylim()),1])\n",
        "plt.title('Resnet50: Training and Validation Accuracy')\n",
        "\n",
        "plt.subplot(1, 2, 2)\n",
        "plt.plot(loss, label='Train')\n",
        "plt.plot(val_loss, label='Val')\n",
        "plt.legend()\n",
        "plt.ylabel('Loss')\n",
        "plt.ylim([0,5.0])\n",
        "plt.title('Resnet50: Training and Validation Loss')\n",
        "plt.xlabel('epoch')\n",
        "plt.tight_layout()\n",
        "plt.show()\n"
      ],
      "execution_count": 0,
      "outputs": [
        {
          "output_type": "display_data",
          "data": {
            "image/png": "[encoded data removed]",
            "text/plain": [
              "<Figure size 720x288 with 2 Axes>"
            ]
          },
          "metadata": {
            "tags": []
          }
        }
      ]
    },
    {
      "cell_type": "markdown",
      "metadata": {
        "id": "bDgHFgu0dgRq",
        "colab_type": "text"
      },
      "source": [
        "### 4: InceptionV3: feature extraction"
      ]
    },
    {
      "cell_type": "code",
      "metadata": {
        "id": "1M9ltmundkSX",
        "colab_type": "code",
        "outputId": "3bdaf4c6-a40c-4a9e-d1cd-9a6f37827426",
        "colab": {
          "base_uri": "https://localhost:8080/",
          "height": 967
        }
      },
      "source": [
        "# Compile, Train, and Test\n",
        "model_inv3.compile(optimizer=Adam(lr=0.001), loss='categorical_crossentropy', metrics = ['accuracy'])\n",
        "model_inv3.fit(training_set, epochs = 20, validation_data = val_set, callbacks=[callback], verbose=1)\n",
        " \n",
        "model_inv3.save_weights(\"model_inv3.h5\")\n",
        "\n",
        "# Test the model \n",
        "model_inv3.evaluate(test_set)"
      ],
      "execution_count": 0,
      "outputs": [
        {
          "output_type": "stream",
          "text": [
            "WARNING:tensorflow:sample_weight modes were coerced from\n",
            "  ...\n",
            "    to  \n",
            "  ['...']\n",
            "WARNING:tensorflow:sample_weight modes were coerced from\n",
            "  ...\n",
            "    to  \n",
            "  ['...']\n",
            "Train for 103 steps, validate for 29 steps\n",
            "Epoch 1/20\n",
            "103/103 [==============================] - 29s 280ms/step - loss: 1.6806 - accuracy: 0.4551 - val_loss: 4.3076 - val_accuracy: 0.3983\n",
            "Epoch 2/20\n",
            "103/103 [==============================] - 24s 235ms/step - loss: 0.9920 - accuracy: 0.6347 - val_loss: 1.0056 - val_accuracy: 0.6537\n",
            "Epoch 3/20\n",
            "103/103 [==============================] - 24s 232ms/step - loss: 0.8101 - accuracy: 0.6833 - val_loss: 1.2300 - val_accuracy: 0.6147\n",
            "Epoch 4/20\n",
            "103/103 [==============================] - 24s 234ms/step - loss: 0.7502 - accuracy: 0.6893 - val_loss: 1.1737 - val_accuracy: 0.6494\n",
            "Epoch 5/20\n",
            "103/103 [==============================] - 24s 233ms/step - loss: 0.7446 - accuracy: 0.7015 - val_loss: 1.1218 - val_accuracy: 0.6450\n",
            "Epoch 6/20\n",
            "103/103 [==============================] - 24s 233ms/step - loss: 0.7421 - accuracy: 0.7063 - val_loss: 1.0078 - val_accuracy: 0.6580\n",
            "Epoch 7/20\n",
            "103/103 [==============================] - 24s 236ms/step - loss: 0.6657 - accuracy: 0.7354 - val_loss: 1.0241 - val_accuracy: 0.6537\n",
            "Epoch 8/20\n",
            "103/103 [==============================] - 24s 233ms/step - loss: 0.6659 - accuracy: 0.7330 - val_loss: 0.9779 - val_accuracy: 0.6537\n",
            "Epoch 9/20\n",
            "103/103 [==============================] - 24s 234ms/step - loss: 0.6506 - accuracy: 0.7391 - val_loss: 0.9611 - val_accuracy: 0.6494\n",
            "Epoch 10/20\n",
            "103/103 [==============================] - 24s 234ms/step - loss: 0.6509 - accuracy: 0.7512 - val_loss: 0.9413 - val_accuracy: 0.6623\n",
            "Epoch 11/20\n",
            "103/103 [==============================] - 24s 234ms/step - loss: 0.6569 - accuracy: 0.7330 - val_loss: 0.9762 - val_accuracy: 0.6580\n",
            "Epoch 12/20\n",
            "103/103 [==============================] - 24s 232ms/step - loss: 0.6390 - accuracy: 0.7379 - val_loss: 0.9653 - val_accuracy: 0.6667\n",
            "Epoch 13/20\n",
            "103/103 [==============================] - 24s 230ms/step - loss: 0.6516 - accuracy: 0.7415 - val_loss: 0.9686 - val_accuracy: 0.6623\n",
            "Epoch 14/20\n",
            "103/103 [==============================] - 24s 234ms/step - loss: 0.6476 - accuracy: 0.7257 - val_loss: 0.9689 - val_accuracy: 0.6667\n",
            "Epoch 15/20\n",
            "103/103 [==============================] - 24s 234ms/step - loss: 0.6036 - accuracy: 0.7609 - val_loss: 0.9606 - val_accuracy: 0.6623\n",
            "Epoch 16/20\n",
            "103/103 [==============================] - 25s 247ms/step - loss: 0.6172 - accuracy: 0.7536 - val_loss: 0.9608 - val_accuracy: 0.6580\n",
            "Epoch 17/20\n",
            "103/103 [==============================] - 24s 234ms/step - loss: 0.6072 - accuracy: 0.7573 - val_loss: 0.9614 - val_accuracy: 0.6580\n",
            "Epoch 18/20\n",
            "103/103 [==============================] - 24s 232ms/step - loss: 0.6284 - accuracy: 0.7561 - val_loss: 0.9607 - val_accuracy: 0.6580\n",
            "Epoch 19/20\n",
            "103/103 [==============================] - 24s 236ms/step - loss: 0.6693 - accuracy: 0.7367 - val_loss: 0.9607 - val_accuracy: 0.6580\n",
            "Epoch 20/20\n",
            "103/103 [==============================] - 25s 238ms/step - loss: 0.5793 - accuracy: 0.7694 - val_loss: 0.9610 - val_accuracy: 0.6580\n",
            "WARNING:tensorflow:sample_weight modes were coerced from\n",
            "  ...\n",
            "    to  \n",
            "  ['...']\n",
            "15/15 [==============================] - 3s 171ms/step - loss: 1.0968 - accuracy: 0.6410\n"
          ],
          "name": "stdout"
        },
        {
          "output_type": "execute_result",
          "data": {
            "text/plain": [
              "[1.096820882956187, 0.64102566]"
            ]
          },
          "metadata": {
            "tags": []
          },
          "execution_count": 21
        }
      ]
    },
    {
      "cell_type": "code",
      "metadata": {
        "id": "vP4WDkVjdtNz",
        "colab_type": "code",
        "outputId": "d8ddb31b-23f4-47c5-f024-e1fa801f83bc",
        "colab": {
          "base_uri": "https://localhost:8080/",
          "height": 297
        }
      },
      "source": [
        "acc = model_inv3.history.history['accuracy']\n",
        "val_acc = model_inv3.history.history['val_accuracy']\n",
        "\n",
        "loss = model_inv3.history.history['loss']\n",
        "val_loss = model_inv3.history.history['val_loss']\n",
        "\n",
        "plt.figure(figsize=(10, 4))\n",
        "plt.subplot(1, 2, 1)\n",
        "plt.plot(acc, label='Train')\n",
        "plt.plot(val_acc, label='Val')\n",
        "plt.legend()\n",
        "plt.ylabel('Accuracy')\n",
        "plt.ylim([0,1.0])\n",
        "plt.ylim([min(plt.ylim()),1])\n",
        "plt.title('InceptionV3: Training and Validation Accuracy')\n",
        "\n",
        "plt.subplot(1, 2, 2)\n",
        "plt.plot(loss, label='Train')\n",
        "plt.plot(val_loss, label='Val')\n",
        "plt.legend()\n",
        "plt.ylabel('Loss')\n",
        "plt.ylim([0,5.0])\n",
        "plt.title('InceptionV3: Training and Validation Loss')\n",
        "plt.xlabel('epoch')\n",
        "plt.tight_layout()\n",
        "plt.show()\n"
      ],
      "execution_count": 0,
      "outputs": [
        {
          "output_type": "display_data",
          "data": {
            "image/png": "[encoded data removed]",
            "text/plain": [
              "<Figure size 720x288 with 2 Axes>"
            ]
          },
          "metadata": {
            "tags": []
          }
        }
      ]
    },
    {
      "cell_type": "code",
      "metadata": {
        "id": "3xTvTB0JiBsD",
        "colab_type": "code",
        "colab": {}
      },
      "source": [
        ""
      ],
      "execution_count": 0,
      "outputs": []
    }
  ]
}